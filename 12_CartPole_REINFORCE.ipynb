{
 "cells": [
  {
   "cell_type": "code",
   "execution_count": 1,
   "metadata": {},
   "outputs": [],
   "source": [
    "import gymnasium as gym # pip install gymnasium gymnasium[classic-control]\n",
    "\n",
    "import torch\n",
    "import torch.nn as nn\n",
    "import torch.optim as optim\n",
    "from torch.distributions import Categorical\n",
    "\n",
    "import matplotlib.pyplot as plt\n",
    "from IPython import display"
   ]
  },
  {
   "cell_type": "markdown",
   "metadata": {},
   "source": [
    "# Check Environment"
   ]
  },
  {
   "cell_type": "code",
   "execution_count": 2,
   "metadata": {},
   "outputs": [
    {
     "data": {
      "image/png": "[encoded data removed]",
      "text/plain": [
       "<Figure size 640x480 with 1 Axes>"
      ]
     },
     "metadata": {},
     "output_type": "display_data"
    }
   ],
   "source": [
    "env = gym.make('CartPole-v1', render_mode='rgb_array')\n",
    "env.reset()\n",
    "img = plt.imshow(env.render())\n",
    "\n",
    "n_games, count, best_score = 1, 0, 0 \n",
    "for _ in range(200):\n",
    "    count += 1\n",
    "    \n",
    "    img.set_data(env.render())\n",
    "    plt.title(f'{n_games}th game: {count} (best score: {best_score})')\n",
    "    display.display(plt.gcf())\n",
    "    display.clear_output(wait=True)\n",
    "    \n",
    "    action = env.action_space.sample() # take a random action\n",
    "    state, reward, done, truncated, info = env.step(action)\n",
    "    \n",
    "    if done or truncated:\n",
    "        state, info = env.reset()\n",
    "        if best_score < count:\n",
    "            best_score = count\n",
    "        n_games += 1\n",
    "        count = 0\n",
    "env.close()"
   ]
  },
  {
   "cell_type": "markdown",
   "metadata": {},
   "source": [
    "# Hyperparameters"
   ]
  },
  {
   "cell_type": "code",
   "execution_count": 3,
   "metadata": {},
   "outputs": [],
   "source": [
    "learning_rate = 0.0005\n",
    "gamma = 0.99"
   ]
  },
  {
   "cell_type": "markdown",
   "metadata": {},
   "source": [
    "# Model (Policy)"
   ]
  },
  {
   "cell_type": "code",
   "execution_count": 4,
   "metadata": {},
   "outputs": [],
   "source": [
    "class Net(nn.Module):\n",
    "    def __init__(self):\n",
    "        super(Net, self).__init__()\n",
    "        self.trajectories = []\n",
    "        self.fully_connected_layer1 = nn.Linear(4, 64)\n",
    "        self.fully_connected_layer2 = nn.Linear(64, 2)\n",
    "        self.optimizer = optim.Adam(self.parameters(), lr=learning_rate)\n",
    "        \n",
    "    def forward(self, xb):\n",
    "        out = self.fully_connected_layer1(xb)\n",
    "        out = nn.ReLU()(out)\n",
    "        out = self.fully_connected_layer2(out)\n",
    "        out = nn.Softmax(dim=0)(out)\n",
    "        return out\n",
    "    \n",
    "    def save_trajectory(self, data):\n",
    "        self.trajectories.append(data)\n",
    "        \n",
    "    def update(self):\n",
    "        R = 0\n",
    "        self.optimizer.zero_grad()\n",
    "        for reward, probability in self.trajectories[::-1]:\n",
    "            R = reward + gamma*R\n",
    "            loss = -torch.log(probability)*R\n",
    "            loss.backward()\n",
    "        self.optimizer.step()\n",
    "        self.trajectories = []\n",
    "        "
   ]
  },
  {
   "cell_type": "code",
   "execution_count": 5,
   "metadata": {},
   "outputs": [
    {
     "name": "stdout",
     "output_type": "stream",
     "text": [
      "0th training => score: 0.19\n",
      "100th training => score: 18.77\n",
      "200th training => score: 28.0\n",
      "300th training => score: 40.43\n",
      "400th training => score: 51.05\n",
      "500th training => score: 51.83\n",
      "600th training => score: 88.03\n",
      "700th training => score: 134.13\n",
      "800th training => score: 159.11\n",
      "900th training => score: 189.54\n",
      "1000th training => score: 222.7\n",
      "1100th training => score: 262.45\n",
      "1200th training => score: 291.77\n",
      "1300th training => score: 394.84\n",
      "1400th training => score: 529.27\n",
      "1500th training => score: 623.86\n",
      "1600th training => score: 657.04\n",
      "1700th training => score: 710.35\n",
      "1800th training => score: 1526.78\n",
      "1900th training => score: 1935.93\n",
      "2000th training => score: 4807.02\n",
      "2100th training => score: 4312.35\n",
      "2200th training => score: 21369.0\n",
      "2300th training => score: 1960.36\n",
      "2400th training => score: 4415.98\n"
     ]
    }
   ],
   "source": [
    "env = gym.make('CartPole-v1', render_mode='rgb_array')\n",
    "policy = Net()\n",
    "total_reward = 0.\n",
    "    \n",
    "for n_games in range(2500):\n",
    "    state, _ = env.reset()\n",
    "    done = False\n",
    "        \n",
    "    while not done:\n",
    "        probability = policy(torch.from_numpy(state).float())\n",
    "        m = Categorical(probability)\n",
    "        action = m.sample()\n",
    "        next_state, reward, done, truncated, info = env.step(action.item())\n",
    "        policy.save_trajectory((reward, probability[action]))\n",
    "            \n",
    "        state = next_state\n",
    "        total_reward += reward\n",
    "        \n",
    "    policy.update()\n",
    "        \n",
    "    if n_games%100 == 0:\n",
    "        print(f'{n_games}th training => score: {total_reward/100}')\n",
    "        total_reward = 0.\n",
    "        \n",
    "env.close()"
   ]
  },
  {
   "cell_type": "markdown",
   "metadata": {},
   "source": [
    "# After training"
   ]
  },
  {
   "cell_type": "code",
   "execution_count": 6,
   "metadata": {},
   "outputs": [
    {
     "data": {
      "image/png": "[encoded data removed]",
      "text/plain": [
       "<Figure size 640x480 with 1 Axes>"
      ]
     },
     "metadata": {},
     "output_type": "display_data"
    }
   ],
   "source": [
    "env = gym.make('CartPole-v1', render_mode='rgb_array')\n",
    "state, _ = env.reset()\n",
    "img = plt.imshow(env.render())\n",
    "\n",
    "done, count = False, 0\n",
    "while not done:\n",
    "    count += 1\n",
    "    \n",
    "    img.set_data(env.render())\n",
    "    plt.title(f'After Policy training => {count}')\n",
    "    display.display(plt.gcf())\n",
    "    display.clear_output(wait=True)\n",
    "    \n",
    "    probability = policy(torch.from_numpy(state).float())\n",
    "    m = Categorical(probability)\n",
    "    action = m.sample()\n",
    "    next_state, reward, done, truncated, info = env.step(action.item())\n",
    "    state = next_state\n",
    "    \n",
    "env.close()"
   ]
  },
  {
   "cell_type": "code",
   "execution_count": null,
   "metadata": {},
   "outputs": [],
   "source": []
  }
 ],
 "metadata": {
  "kernelspec": {
   "display_name": "ai_study",
   "language": "python",
   "name": "python3"
  },
  "language_info": {
   "codemirror_mode": {
    "name": "ipython",
    "version": 3
   },
   "file_extension": ".py",
   "mimetype": "text/x-python",
   "name": "python",
   "nbconvert_exporter": "python",
   "pygments_lexer": "ipython3",
   "version": "3.11.4"
  }
 },
 "nbformat": 4,
 "nbformat_minor": 2
}
