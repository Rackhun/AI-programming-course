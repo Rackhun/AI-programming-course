{
 "cells": [
  {
   "cell_type": "code",
   "execution_count": 1,
   "metadata": {},
   "outputs": [],
   "source": [
    "import torch\n",
    "import torchvision"
   ]
  },
  {
   "cell_type": "markdown",
   "metadata": {},
   "source": [
    "# Seed"
   ]
  },
  {
   "cell_type": "code",
   "execution_count": 2,
   "metadata": {},
   "outputs": [],
   "source": [
    "seed_number = 44\n",
    "\n",
    "torch.manual_seed(seed_number)\n",
    "torch.cuda.manual_seed(seed_number)\n",
    "torch.cuda.manual_seed_all(seed_number) # if use multi-GPU\n",
    "torch.backends.cudnn.deterministic = True\n",
    "torch.backends.cudnn.benchmark = False\n",
    "#np.random.seed(seed_number)\n",
    "#random.seed(seed_number)"
   ]
  },
  {
   "cell_type": "markdown",
   "metadata": {},
   "source": [
    "# MNIST data download"
   ]
  },
  {
   "cell_type": "code",
   "execution_count": 3,
   "metadata": {},
   "outputs": [],
   "source": [
    "train_dataset = torchvision.datasets.MNIST('./data/', train=True, download=True)\n",
    "test_dataset  = torchvision.datasets.MNIST('./data/', train=False)"
   ]
  },
  {
   "cell_type": "markdown",
   "metadata": {},
   "source": [
    "# Load dataset"
   ]
  },
  {
   "cell_type": "code",
   "execution_count": 4,
   "metadata": {},
   "outputs": [
    {
     "name": "stdout",
     "output_type": "stream",
     "text": [
      "torch.Size([60000, 28, 28])\n",
      "torch.Size([10000, 28, 28])\n"
     ]
    }
   ],
   "source": [
    "X      = train_dataset.data\n",
    "X_test = test_dataset.data\n",
    "\n",
    "print(X.shape)\n",
    "print(X_test.shape)"
   ]
  },
  {
   "cell_type": "code",
   "execution_count": 5,
   "metadata": {},
   "outputs": [
    {
     "name": "stdout",
     "output_type": "stream",
     "text": [
      "torch.Size([60000])\n",
      "torch.Size([10000])\n"
     ]
    }
   ],
   "source": [
    "y      = train_dataset.targets\n",
    "y_test = test_dataset.targets\n",
    "\n",
    "print(y.shape)\n",
    "print(y_test.shape)"
   ]
  },
  {
   "cell_type": "markdown",
   "metadata": {},
   "source": [
    "# Split dataset"
   ]
  },
  {
   "cell_type": "code",
   "execution_count": 6,
   "metadata": {},
   "outputs": [
    {
     "name": "stdout",
     "output_type": "stream",
     "text": [
      "torch.Size([48000, 28, 28]) torch.Size([48000])\n",
      "torch.Size([12000, 28, 28]) torch.Size([12000])\n"
     ]
    }
   ],
   "source": [
    "from sklearn.model_selection import train_test_split\n",
    "X_train, X_valid, y_train, y_valid = train_test_split(X, y, test_size=0.2, random_state=seed_number)\n",
    "\n",
    "print(X_train.shape, y_train.shape)\n",
    "print(X_valid.shape, y_valid.shape)"
   ]
  },
  {
   "cell_type": "markdown",
   "metadata": {},
   "source": [
    "# Normalization"
   ]
  },
  {
   "cell_type": "code",
   "execution_count": 7,
   "metadata": {},
   "outputs": [],
   "source": [
    "X_train = X_train / 255.\n",
    "X_valid = X_valid / 255.\n",
    "X_test  = X_test  / 255."
   ]
  },
  {
   "cell_type": "markdown",
   "metadata": {},
   "source": [
    "# Data loader"
   ]
  },
  {
   "cell_type": "code",
   "execution_count": 8,
   "metadata": {},
   "outputs": [
    {
     "name": "stdout",
     "output_type": "stream",
     "text": [
      "cpu\n"
     ]
    }
   ],
   "source": [
    "device = 'cuda' if torch.cuda.is_available() else 'cpu'\n",
    "print(device)\n",
    "\n",
    "X_train = X_train.to(device=device)\n",
    "X_valid = X_valid.to(device=device)\n",
    "X_test  = X_test.to(device=device)\n",
    "\n",
    "y_train = y_train.to(device=device)\n",
    "y_valid = y_valid.to(device=device)\n",
    "y_test  = y_test.to(device=device)"
   ]
  },
  {
   "cell_type": "code",
   "execution_count": 9,
   "metadata": {},
   "outputs": [],
   "source": [
    "train_ds = torch.utils.data.TensorDataset(X_train, y_train)\n",
    "valid_ds = torch.utils.data.TensorDataset(X_valid, y_valid)\n",
    "\n",
    "train_loader = torch.utils.data.DataLoader(train_ds, batch_size=128, shuffle=True)\n",
    "valid_loader = torch.utils.data.DataLoader(valid_ds, batch_size=128, shuffle=False)"
   ]
  },
  {
   "cell_type": "markdown",
   "metadata": {},
   "source": [
    "# Model"
   ]
  },
  {
   "cell_type": "code",
   "execution_count": 10,
   "metadata": {},
   "outputs": [],
   "source": [
    "class Net(torch.nn.Module):\n",
    "    def __init__(self):\n",
    "        super(Net, self).__init__()\n",
    "        \n",
    "        self.conv_1 = torch.nn.Conv2d(1, 6, 5)\n",
    "        self.conv_2 = torch.nn.Conv2d(6, 16, 5)\n",
    "        self.pool   = torch.nn.MaxPool2d(2, 2)\n",
    "        self.fully_connected_layer_1 = torch.nn.Linear(16*4*4, 120)\n",
    "        self.fully_connected_layer_2 = torch.nn.Linear(120, 84)\n",
    "        self.fully_connected_layer_3 = torch.nn.Linear(84,  10)\n",
    "        \n",
    "    def forward(self, xb):\n",
    "        xb = xb.unsqueeze(1)  # https://pytorch.org/docs/stable/generated/torch.unsqueeze.html\n",
    "        \n",
    "        out = self.conv_1(xb)\n",
    "        out = torch.nn.ReLU()(out)\n",
    "        out = self.pool(out)\n",
    "        \n",
    "        out = self.conv_2(out)\n",
    "        out = torch.nn.ReLU()(out)\n",
    "        out = self.pool(out)\n",
    "        \n",
    "        out = torch.flatten(out, 1)\n",
    "        \n",
    "        out = self.fully_connected_layer_1(out)\n",
    "        out = torch.nn.ReLU()(out)\n",
    "        out = self.fully_connected_layer_2(out)\n",
    "        out = torch.nn.ReLU()(out)\n",
    "        out = self.fully_connected_layer_3(out)\n",
    "        \n",
    "        return out"
   ]
  },
  {
   "cell_type": "code",
   "execution_count": 11,
   "metadata": {},
   "outputs": [
    {
     "name": "stdout",
     "output_type": "stream",
     "text": [
      "Net(\n",
      "  (conv_1): Conv2d(1, 6, kernel_size=(5, 5), stride=(1, 1))\n",
      "  (conv_2): Conv2d(6, 16, kernel_size=(5, 5), stride=(1, 1))\n",
      "  (pool): MaxPool2d(kernel_size=2, stride=2, padding=0, dilation=1, ceil_mode=False)\n",
      "  (fully_connected_layer_1): Linear(in_features=256, out_features=120, bias=True)\n",
      "  (fully_connected_layer_2): Linear(in_features=120, out_features=84, bias=True)\n",
      "  (fully_connected_layer_3): Linear(in_features=84, out_features=10, bias=True)\n",
      ")\n"
     ]
    }
   ],
   "source": [
    "model = Net().to(device)\n",
    "print(model)"
   ]
  },
  {
   "cell_type": "markdown",
   "metadata": {},
   "source": [
    "# Cost function"
   ]
  },
  {
   "cell_type": "code",
   "execution_count": 12,
   "metadata": {},
   "outputs": [],
   "source": [
    "criterion = torch.nn.CrossEntropyLoss()"
   ]
  },
  {
   "cell_type": "markdown",
   "metadata": {},
   "source": [
    "# Optimizer"
   ]
  },
  {
   "cell_type": "code",
   "execution_count": 13,
   "metadata": {},
   "outputs": [],
   "source": [
    "optimizer = torch.optim.Adam(model.parameters(), lr=0.001)"
   ]
  },
  {
   "cell_type": "markdown",
   "metadata": {},
   "source": [
    "# Training"
   ]
  },
  {
   "cell_type": "code",
   "execution_count": 14,
   "metadata": {},
   "outputs": [
    {
     "name": "stdout",
     "output_type": "stream",
     "text": [
      "======== Epoch 1 =======\n",
      "Loss => train:0.49427, valid:0.18437\n",
      "Accuracy => 94.34%, Elapsed time => 6.279 sec\n",
      "=======================================\n",
      "\n",
      "======== Epoch 2 =======\n",
      "Loss => train:0.13228, valid:0.10191\n",
      "Accuracy => 96.97%, Elapsed time => 6.280 sec\n",
      "=======================================\n",
      "\n",
      "======== Epoch 3 =======\n",
      "Loss => train:0.09050, valid:0.08244\n",
      "Accuracy => 97.45%, Elapsed time => 6.402 sec\n",
      "=======================================\n",
      "\n",
      "======== Epoch 4 =======\n",
      "Loss => train:0.07150, valid:0.06882\n",
      "Accuracy => 97.79%, Elapsed time => 6.501 sec\n",
      "=======================================\n",
      "\n",
      "======== Epoch 5 =======\n",
      "Loss => train:0.05901, valid:0.06708\n",
      "Accuracy => 97.87%, Elapsed time => 6.532 sec\n",
      "=======================================\n",
      "\n",
      "======== Epoch 6 =======\n",
      "Loss => train:0.04934, valid:0.05300\n",
      "Accuracy => 98.33%, Elapsed time => 6.531 sec\n",
      "=======================================\n",
      "\n",
      "======== Epoch 7 =======\n",
      "Loss => train:0.04392, valid:0.04708\n",
      "Accuracy => 98.57%, Elapsed time => 6.632 sec\n",
      "=======================================\n",
      "\n",
      "======== Epoch 8 =======\n",
      "Loss => train:0.04044, valid:0.04510\n",
      "Accuracy => 98.58%, Elapsed time => 6.570 sec\n",
      "=======================================\n",
      "\n",
      "======== Epoch 9 =======\n",
      "Loss => train:0.03368, valid:0.04703\n",
      "Accuracy => 98.48%, Elapsed time => 6.590 sec\n",
      "=======================================\n",
      "\n",
      "======== Epoch 10 =======\n",
      "Loss => train:0.03056, valid:0.04432\n",
      "Accuracy => 98.64%, Elapsed time => 6.608 sec\n",
      "=======================================\n",
      "\n",
      "======== Epoch 11 =======\n",
      "Loss => train:0.02660, valid:0.05769\n",
      "Accuracy => 98.25%, Elapsed time => 6.605 sec\n",
      "=======================================\n",
      "\n",
      "======== Epoch 12 =======\n",
      "Loss => train:0.02377, valid:0.04267\n",
      "Accuracy => 98.68%, Elapsed time => 6.596 sec\n",
      "=======================================\n",
      "\n",
      "======== Epoch 13 =======\n",
      "Loss => train:0.02248, valid:0.04972\n",
      "Accuracy => 98.59%, Elapsed time => 6.622 sec\n",
      "=======================================\n",
      "\n",
      "======== Epoch 14 =======\n",
      "Loss => train:0.01957, valid:0.04743\n",
      "Accuracy => 98.57%, Elapsed time => 6.580 sec\n",
      "=======================================\n",
      "\n",
      "======== Epoch 15 =======\n",
      "Loss => train:0.01884, valid:0.04679\n",
      "Accuracy => 98.63%, Elapsed time => 6.532 sec\n",
      "=======================================\n",
      "\n",
      "======== Epoch 16 =======\n",
      "Loss => train:0.01453, valid:0.04612\n",
      "Accuracy => 98.75%, Elapsed time => 6.617 sec\n",
      "=======================================\n",
      "\n",
      "======== Epoch 17 =======\n",
      "Loss => train:0.01615, valid:0.04850\n",
      "Accuracy => 98.68%, Elapsed time => 6.606 sec\n",
      "=======================================\n",
      "\n",
      "======== Epoch 18 =======\n",
      "Loss => train:0.01328, valid:0.04703\n",
      "Accuracy => 98.71%, Elapsed time => 6.611 sec\n",
      "=======================================\n",
      "\n",
      "======== Epoch 19 =======\n",
      "Loss => train:0.01407, valid:0.04557\n",
      "Accuracy => 98.78%, Elapsed time => 6.617 sec\n",
      "=======================================\n",
      "\n",
      "======== Epoch 20 =======\n",
      "Loss => train:0.01110, valid:0.04327\n",
      "Accuracy => 98.92%, Elapsed time => 6.588 sec\n",
      "=======================================\n",
      "\n",
      "======== Epoch 21 =======\n",
      "Loss => train:0.00964, valid:0.06485\n",
      "Accuracy => 98.38%, Elapsed time => 6.595 sec\n",
      "=======================================\n",
      "\n",
      "======== Epoch 22 =======\n",
      "Loss => train:0.00924, valid:0.04844\n",
      "Accuracy => 98.86%, Elapsed time => 6.636 sec\n",
      "=======================================\n",
      "\n",
      "======== Epoch 23 =======\n",
      "Loss => train:0.00849, valid:0.05174\n",
      "Accuracy => 98.71%, Elapsed time => 6.586 sec\n",
      "=======================================\n",
      "\n",
      "======== Epoch 24 =======\n",
      "Loss => train:0.00823, valid:0.04791\n",
      "Accuracy => 98.88%, Elapsed time => 6.578 sec\n",
      "=======================================\n",
      "\n",
      "======== Epoch 25 =======\n",
      "Loss => train:0.00821, valid:0.07321\n",
      "Accuracy => 98.35%, Elapsed time => 6.601 sec\n",
      "=======================================\n",
      "\n",
      "======== Epoch 26 =======\n",
      "Loss => train:0.00802, valid:0.05371\n",
      "Accuracy => 98.68%, Elapsed time => 6.600 sec\n",
      "=======================================\n",
      "\n",
      "======== Epoch 27 =======\n",
      "Loss => train:0.00703, valid:0.05266\n",
      "Accuracy => 98.75%, Elapsed time => 6.570 sec\n",
      "=======================================\n",
      "\n"
     ]
    }
   ],
   "source": [
    "import time \n",
    "\n",
    "is_train = True\n",
    "epoch, early_stopping = 0, 0\n",
    "train_loss_history, valid_loss_history = [], []\n",
    "\n",
    "while is_train:\n",
    "    start = time.time()\n",
    "    train_loss, train_count = 0., 0.\n",
    "    epoch += 1\n",
    "    early_stopping += 1\n",
    "    \n",
    "    for xb, yb in train_loader:\n",
    "        prediction = model(xb)\n",
    "        loss = criterion(prediction, yb)\n",
    "        train_loss += loss.item()*len(yb)\n",
    "        train_count += len(yb)\n",
    "        \n",
    "        loss.backward()\n",
    "        optimizer.step()\n",
    "        optimizer.zero_grad()\n",
    "    \n",
    "    with torch.no_grad():\n",
    "        valid_loss = 0\n",
    "        valid_accuracy, valid_count = 0., 0.\n",
    "        \n",
    "        for xb, yb in valid_loader:\n",
    "            prediction = model(xb)\n",
    "            valid_loss += criterion(prediction, yb)*len(yb)\n",
    "            valid_accuracy += prediction.data.max(1)[1].eq(yb.data).sum()\n",
    "            valid_count += len(yb)\n",
    "        \n",
    "    train_loss /= train_count\n",
    "    valid_loss /= valid_count    \n",
    "    valid_accuracy /= valid_count\n",
    "    \n",
    "    train_loss_history.append(train_loss)\n",
    "    valid_loss_history.append(valid_loss)\n",
    "    \n",
    "    if min(valid_loss_history) == valid_loss:\n",
    "        early_stopping = 0\n",
    "        \n",
    "        torch.save({\n",
    "            'epoch': epoch,\n",
    "            'model_state_dict': model.state_dict(),\n",
    "            'optimizer_state_dict': optimizer.state_dict(),\n",
    "            'loss': valid_loss,\n",
    "        }, './saved_model.pt')\n",
    "        \n",
    "    if early_stopping == 15:\n",
    "        is_train = False\n",
    "            \n",
    "    print(f\"======== Epoch {epoch} =======\")\n",
    "    print(f\"Loss => train:{train_loss:.5f}, valid:{valid_loss:.5f}\")\n",
    "    print(f\"Accuracy => {valid_accuracy*100:.2f}%, Elapsed time => {time.time()-start:.3f} sec\")\n",
    "    print(\"=======================================\\n\")"
   ]
  },
  {
   "cell_type": "markdown",
   "metadata": {},
   "source": [
    "# Learning curve"
   ]
  },
  {
   "cell_type": "code",
   "execution_count": 15,
   "metadata": {},
   "outputs": [
    {
     "data": {
      "image/png": "[encoded data removed]",
      "text/plain": [
       "<Figure size 640x480 with 1 Axes>"
      ]
     },
     "metadata": {},
     "output_type": "display_data"
    }
   ],
   "source": [
    "import matplotlib.pyplot as plt \n",
    "\n",
    "plt.plot(train_loss_history)\n",
    "plt.plot(valid_loss_history)\n",
    "plt.axhline(y=min(valid_loss_history), color='black', linestyle='--', linewidth=1)\n",
    "plt.show()"
   ]
  },
  {
   "cell_type": "markdown",
   "metadata": {},
   "source": [
    "# Load best model"
   ]
  },
  {
   "cell_type": "code",
   "execution_count": 16,
   "metadata": {},
   "outputs": [
    {
     "name": "stdout",
     "output_type": "stream",
     "text": [
      "12 0.042669739574193954\n"
     ]
    }
   ],
   "source": [
    "checkpoint = torch.load('./saved_model.pt')\n",
    "model.load_state_dict(checkpoint['model_state_dict'])\n",
    "optimizer.load_state_dict(checkpoint['optimizer_state_dict'])\n",
    "epoch = checkpoint['epoch']\n",
    "loss = checkpoint['loss']\n",
    "\n",
    "print(epoch, loss.item())"
   ]
  },
  {
   "cell_type": "markdown",
   "metadata": {},
   "source": [
    "# Evaluation"
   ]
  },
  {
   "cell_type": "code",
   "execution_count": 17,
   "metadata": {},
   "outputs": [
    {
     "name": "stdout",
     "output_type": "stream",
     "text": [
      "loss: 0.03422\n",
      "accuracy: 98.92%\n"
     ]
    }
   ],
   "source": [
    "prediction = model(X_test)\n",
    "loss = criterion(prediction, y_test)# / len(y_test)\n",
    "accuracy = prediction.data.max(1)[1].eq(y_test.data).sum() / len(y_test)\n",
    "\n",
    "print(f\"loss: {loss:.5f}\")\n",
    "print(f\"accuracy: {accuracy*100:.2f}%\")"
   ]
  },
  {
   "cell_type": "code",
   "execution_count": 18,
   "metadata": {},
   "outputs": [
    {
     "data": {
      "text/plain": [
       "<matplotlib.image.AxesImage at 0x2028f61c0d0>"
      ]
     },
     "execution_count": 18,
     "metadata": {},
     "output_type": "execute_result"
    },
    {
     "data": {
      "image/png": "[encoded data removed]",
      "text/plain": [
       "<Figure size 640x480 with 1 Axes>"
      ]
     },
     "metadata": {},
     "output_type": "display_data"
    }
   ],
   "source": [
    "plt.imshow(X_test[1000])"
   ]
  },
  {
   "cell_type": "code",
   "execution_count": 19,
   "metadata": {},
   "outputs": [
    {
     "name": "stdout",
     "output_type": "stream",
     "text": [
      "tensor([9])\n"
     ]
    }
   ],
   "source": [
    "prediction = model(X_test[1000:1001])\n",
    "answer = prediction.data.max(1)[1]\n",
    "print(answer)"
   ]
  },
  {
   "cell_type": "code",
   "execution_count": null,
   "metadata": {},
   "outputs": [],
   "source": []
  }
 ],
 "metadata": {
  "kernelspec": {
   "display_name": "ai_study",
   "language": "python",
   "name": "python3"
  },
  "language_info": {
   "codemirror_mode": {
    "name": "ipython",
    "version": 3
   },
   "file_extension": ".py",
   "mimetype": "text/x-python",
   "name": "python",
   "nbconvert_exporter": "python",
   "pygments_lexer": "ipython3",
   "version": "3.11.4"
  },
  "orig_nbformat": 4
 },
 "nbformat": 4,
 "nbformat_minor": 2
}
