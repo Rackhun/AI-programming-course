{
 "cells": [
  {
   "cell_type": "code",
   "execution_count": 1,
   "metadata": {},
   "outputs": [],
   "source": [
    "import torch\n",
    "import torchvision\n",
    "\n",
    "import pandas as pd\n",
    "import numpy as np"
   ]
  },
  {
   "cell_type": "markdown",
   "metadata": {},
   "source": [
    "# Seed"
   ]
  },
  {
   "cell_type": "code",
   "execution_count": 2,
   "metadata": {},
   "outputs": [],
   "source": [
    "seed_number = 44\n",
    "\n",
    "torch.manual_seed(seed_number)\n",
    "torch.cuda.manual_seed(seed_number)\n",
    "torch.cuda.manual_seed_all(seed_number) # if use multi-GPU\n",
    "torch.backends.cudnn.deterministic = True\n",
    "torch.backends.cudnn.benchmark = False\n",
    "np.random.seed(seed_number)\n",
    "#random.seed(seed_number)"
   ]
  },
  {
   "cell_type": "markdown",
   "metadata": {},
   "source": [
    "# Data Load"
   ]
  },
  {
   "cell_type": "code",
   "execution_count": 3,
   "metadata": {},
   "outputs": [
    {
     "name": "stdout",
     "output_type": "stream",
     "text": [
      "(7266, 7)\n"
     ]
    },
    {
     "data": {
      "text/html": [
       "<div>\n",
       "<style scoped>\n",
       "    .dataframe tbody tr th:only-of-type {\n",
       "        vertical-align: middle;\n",
       "    }\n",
       "\n",
       "    .dataframe tbody tr th {\n",
       "        vertical-align: top;\n",
       "    }\n",
       "\n",
       "    .dataframe thead th {\n",
       "        text-align: right;\n",
       "    }\n",
       "</style>\n",
       "<table border=\"1\" class=\"dataframe\">\n",
       "  <thead>\n",
       "    <tr style=\"text-align: right;\">\n",
       "      <th></th>\n",
       "      <th>dt</th>\n",
       "      <th>so2</th>\n",
       "      <th>no2</th>\n",
       "      <th>co</th>\n",
       "      <th>o3</th>\n",
       "      <th>pm10</th>\n",
       "      <th>pm2.5</th>\n",
       "    </tr>\n",
       "  </thead>\n",
       "  <tbody>\n",
       "    <tr>\n",
       "      <th>0</th>\n",
       "      <td>2001-01-01</td>\n",
       "      <td>0.003542</td>\n",
       "      <td>0.03384</td>\n",
       "      <td>0.6543</td>\n",
       "      <td>0.004250</td>\n",
       "      <td>71.30</td>\n",
       "      <td>55.53</td>\n",
       "    </tr>\n",
       "    <tr>\n",
       "      <th>1</th>\n",
       "      <td>2001-01-02</td>\n",
       "      <td>0.001583</td>\n",
       "      <td>0.02759</td>\n",
       "      <td>0.5957</td>\n",
       "      <td>0.006084</td>\n",
       "      <td>428.00</td>\n",
       "      <td>160.60</td>\n",
       "    </tr>\n",
       "    <tr>\n",
       "      <th>2</th>\n",
       "      <td>2001-01-03</td>\n",
       "      <td>0.002125</td>\n",
       "      <td>0.02650</td>\n",
       "      <td>0.4458</td>\n",
       "      <td>0.006958</td>\n",
       "      <td>90.80</td>\n",
       "      <td>43.80</td>\n",
       "    </tr>\n",
       "    <tr>\n",
       "      <th>3</th>\n",
       "      <td>2001-01-04</td>\n",
       "      <td>0.003708</td>\n",
       "      <td>0.02870</td>\n",
       "      <td>0.5330</td>\n",
       "      <td>0.007416</td>\n",
       "      <td>76.94</td>\n",
       "      <td>42.10</td>\n",
       "    </tr>\n",
       "    <tr>\n",
       "      <th>4</th>\n",
       "      <td>2001-01-05</td>\n",
       "      <td>0.005165</td>\n",
       "      <td>0.05063</td>\n",
       "      <td>1.1580</td>\n",
       "      <td>0.000458</td>\n",
       "      <td>98.06</td>\n",
       "      <td>69.75</td>\n",
       "    </tr>\n",
       "  </tbody>\n",
       "</table>\n",
       "</div>"
      ],
      "text/plain": [
       "           dt       so2      no2      co        o3    pm10   pm2.5\n",
       "0  2001-01-01  0.003542  0.03384  0.6543  0.004250   71.30   55.53\n",
       "1  2001-01-02  0.001583  0.02759  0.5957  0.006084  428.00  160.60\n",
       "2  2001-01-03  0.002125  0.02650  0.4458  0.006958   90.80   43.80\n",
       "3  2001-01-04  0.003708  0.02870  0.5330  0.007416   76.94   42.10\n",
       "4  2001-01-05  0.005165  0.05063  1.1580  0.000458   98.06   69.75"
      ]
     },
     "execution_count": 3,
     "metadata": {},
     "output_type": "execute_result"
    }
   ],
   "source": [
    "df = pd.read_csv('./seoul_107_air_quality_2001_2021.csv')\n",
    "\n",
    "print(df.shape)\n",
    "df.head()"
   ]
  },
  {
   "cell_type": "code",
   "execution_count": 4,
   "metadata": {},
   "outputs": [
    {
     "data": {
      "text/plain": [
       "dt        object\n",
       "so2      float64\n",
       "no2      float64\n",
       "co       float64\n",
       "o3       float64\n",
       "pm10     float64\n",
       "pm2.5    float64\n",
       "dtype: object"
      ]
     },
     "execution_count": 4,
     "metadata": {},
     "output_type": "execute_result"
    }
   ],
   "source": [
    "df.dtypes"
   ]
  },
  {
   "cell_type": "code",
   "execution_count": 5,
   "metadata": {},
   "outputs": [
    {
     "data": {
      "text/plain": [
       "dt       datetime64[ns]\n",
       "so2             float64\n",
       "no2             float64\n",
       "co              float64\n",
       "o3              float64\n",
       "pm10            float64\n",
       "pm2.5           float64\n",
       "dtype: object"
      ]
     },
     "execution_count": 5,
     "metadata": {},
     "output_type": "execute_result"
    }
   ],
   "source": [
    "df['dt'] = pd.to_datetime(df['dt'])\n",
    "df.dtypes"
   ]
  },
  {
   "cell_type": "code",
   "execution_count": 6,
   "metadata": {},
   "outputs": [
    {
     "name": "stdout",
     "output_type": "stream",
     "text": [
      "(6184, 7)\n",
      "(1082, 7)\n"
     ]
    }
   ],
   "source": [
    "df_train = df[df['dt'].dt.year < 2019]\n",
    "df_test  = df[df['dt'].dt.year >= 2019]\n",
    "\n",
    "print(df_train.shape)\n",
    "print(df_test.shape)"
   ]
  },
  {
   "cell_type": "code",
   "execution_count": 7,
   "metadata": {},
   "outputs": [
    {
     "name": "stdout",
     "output_type": "stream",
     "text": [
      "(6184, 6) (6184,)\n",
      "(1082, 6) (1082,)\n"
     ]
    }
   ],
   "source": [
    "X = df_train[['so2','no2','co','o3', 'pm10', 'pm2.5']].values\n",
    "y = df_train['pm2.5'].values\n",
    "\n",
    "X_test = df_test[['so2','no2','co','o3', 'pm10', 'pm2.5']].values\n",
    "y_test = df_test['pm2.5'].values\n",
    "\n",
    "print(X.shape, y.shape)\n",
    "print(X_test.shape, y_test.shape)"
   ]
  },
  {
   "cell_type": "markdown",
   "metadata": {},
   "source": [
    "# Normalization"
   ]
  },
  {
   "cell_type": "code",
   "execution_count": 8,
   "metadata": {},
   "outputs": [],
   "source": [
    "X_max = np.max(X, axis=0)\n",
    "X_min = np.min(X, axis=0)\n",
    "\n",
    "X      = (X      - X_min) / (X_max - X_min + 1e-10)\n",
    "X_test = (X_test - X_min) / (X_max - X_min + 1e-10)"
   ]
  },
  {
   "cell_type": "code",
   "execution_count": 9,
   "metadata": {},
   "outputs": [
    {
     "name": "stdout",
     "output_type": "stream",
     "text": [
      "0.999999999999913 0.0\n",
      "1.2018348605476532 -0.002707472689627842\n"
     ]
    }
   ],
   "source": [
    "print(np.max(X), np.min(X))\n",
    "print(np.max(X_test), np.min(X_test))"
   ]
  },
  {
   "cell_type": "markdown",
   "metadata": {},
   "source": [
    "# Data organize (sequence)"
   ]
  },
  {
   "cell_type": "code",
   "execution_count": 10,
   "metadata": {},
   "outputs": [],
   "source": [
    "sequence_length = 4"
   ]
  },
  {
   "cell_type": "code",
   "execution_count": 11,
   "metadata": {},
   "outputs": [],
   "source": [
    "def make_sequence(data, sequence_length):\n",
    "    data_seq = []\n",
    "    for i in range(len(data)-sequence_length):\n",
    "        data_seq.append(data[i:i+sequence_length])\n",
    "            \n",
    "    data_seq = np.stack(data_seq, axis=0)    \n",
    "    return data_seq"
   ]
  },
  {
   "cell_type": "code",
   "execution_count": 12,
   "metadata": {},
   "outputs": [
    {
     "name": "stdout",
     "output_type": "stream",
     "text": [
      "(6179, 4, 6)\n",
      "(6179,)\n",
      "(1077, 4, 6)\n",
      "(1077,)\n"
     ]
    }
   ],
   "source": [
    "X_seq = make_sequence(X[:-1], sequence_length=sequence_length)\n",
    "X_test = make_sequence(X_test[:-1], sequence_length=sequence_length)\n",
    "\n",
    "y_seq = y[sequence_length+1:]\n",
    "y_test = y_test[sequence_length+1:]\n",
    "\n",
    "print(X_seq.shape)\n",
    "print(y_seq.shape)\n",
    "print(X_test.shape)\n",
    "print(y_test.shape)"
   ]
  },
  {
   "cell_type": "markdown",
   "metadata": {},
   "source": [
    "# Split data"
   ]
  },
  {
   "cell_type": "code",
   "execution_count": 13,
   "metadata": {},
   "outputs": [
    {
     "name": "stdout",
     "output_type": "stream",
     "text": [
      "(4943, 4, 6) (4943,)\n",
      "(1236, 4, 6) (1236,)\n"
     ]
    }
   ],
   "source": [
    "from sklearn.model_selection import train_test_split\n",
    "X_train, X_valid, y_train, y_valid = train_test_split(X_seq, y_seq, test_size=0.2, random_state=seed_number)\n",
    "\n",
    "print(X_train.shape, y_train.shape)\n",
    "print(X_valid.shape, y_valid.shape)"
   ]
  },
  {
   "cell_type": "markdown",
   "metadata": {},
   "source": [
    "# Data loader"
   ]
  },
  {
   "cell_type": "code",
   "execution_count": 14,
   "metadata": {},
   "outputs": [
    {
     "name": "stdout",
     "output_type": "stream",
     "text": [
      "cpu\n"
     ]
    }
   ],
   "source": [
    "device = 'cuda' if torch.cuda.is_available() else 'cpu'\n",
    "print(device)\n",
    "\n",
    "X_train = torch.FloatTensor(X_train).to(device=device)\n",
    "X_valid = torch.FloatTensor(X_valid).to(device=device)\n",
    "X_test  = torch.FloatTensor(X_test).to(device=device)\n",
    "\n",
    "y_train = torch.FloatTensor(y_train).to(device=device)\n",
    "y_valid = torch.FloatTensor(y_valid).to(device=device)\n",
    "y_test  = torch.FloatTensor(y_test).to(device=device)"
   ]
  },
  {
   "cell_type": "code",
   "execution_count": 15,
   "metadata": {},
   "outputs": [],
   "source": [
    "train_ds = torch.utils.data.TensorDataset(X_train, y_train)\n",
    "valid_ds = torch.utils.data.TensorDataset(X_valid, y_valid)\n",
    "\n",
    "train_loader = torch.utils.data.DataLoader(train_ds, batch_size=128, shuffle=True)\n",
    "valid_loader = torch.utils.data.DataLoader(valid_ds, batch_size=128, shuffle=False)"
   ]
  },
  {
   "cell_type": "markdown",
   "metadata": {},
   "source": [
    "# Model (many to one)"
   ]
  },
  {
   "cell_type": "code",
   "execution_count": 16,
   "metadata": {},
   "outputs": [],
   "source": [
    "class Net(torch.nn.Module):\n",
    "    def __init__(self, n_input, n_hidden, n_layer):\n",
    "        super(Net, self).__init__()\n",
    "        \n",
    "        self.n_input = n_input\n",
    "        self.n_hidden = n_hidden\n",
    "        self.n_layer = n_layer\n",
    "        \n",
    "        # https://pytorch.org/docs/stable/generated/torch.nn.LSTM.html\n",
    "        self.LSTM = torch.nn.LSTM(\n",
    "            n_input, n_hidden, n_layer, \n",
    "            bidirectional=False,\n",
    "            batch_first=True\n",
    "        )\n",
    "        \n",
    "        self.fully_connected_layer_1 = torch.nn.Linear(n_hidden, 32)\n",
    "        self.fully_connected_layer_2 = torch.nn.Linear(32, 1)\n",
    "        \n",
    "    def forward(self, xb):\n",
    "        h_init = torch.zeros(self.n_layer, xb.size()[0], self.n_hidden)\n",
    "        c_init = torch.zeros(self.n_layer, xb.size()[0], self.n_hidden)\n",
    "        out, _ = self.LSTM(xb, (h_init, c_init))\n",
    "        \n",
    "        out = self.fully_connected_layer_1(out[:,-1,:])\n",
    "        out = torch.nn.ReLU()(out)\n",
    "        out = self.fully_connected_layer_2(out)\n",
    "        return out"
   ]
  },
  {
   "cell_type": "code",
   "execution_count": 17,
   "metadata": {},
   "outputs": [
    {
     "name": "stdout",
     "output_type": "stream",
     "text": [
      "Net(\n",
      "  (LSTM): LSTM(6, 64, num_layers=2, batch_first=True)\n",
      "  (fully_connected_layer_1): Linear(in_features=64, out_features=32, bias=True)\n",
      "  (fully_connected_layer_2): Linear(in_features=32, out_features=1, bias=True)\n",
      ")\n"
     ]
    }
   ],
   "source": [
    "model = Net(\n",
    "    n_input=6,\n",
    "    n_hidden=64,\n",
    "    n_layer=2,\n",
    ").to(device)\n",
    "print(model)"
   ]
  },
  {
   "cell_type": "markdown",
   "metadata": {},
   "source": [
    "# Cost function"
   ]
  },
  {
   "cell_type": "code",
   "execution_count": 18,
   "metadata": {},
   "outputs": [],
   "source": [
    "criterion = torch.nn.MSELoss()"
   ]
  },
  {
   "cell_type": "markdown",
   "metadata": {},
   "source": [
    "# Optimizer"
   ]
  },
  {
   "cell_type": "code",
   "execution_count": 19,
   "metadata": {},
   "outputs": [],
   "source": [
    "optimizer = torch.optim.Adam(model.parameters(), lr=0.001)"
   ]
  },
  {
   "cell_type": "markdown",
   "metadata": {},
   "source": [
    "# Training"
   ]
  },
  {
   "cell_type": "code",
   "execution_count": 20,
   "metadata": {},
   "outputs": [
    {
     "name": "stdout",
     "output_type": "stream",
     "text": [
      "======== Epoch 1 =======\n",
      "Loss => train:1274.76292, valid:1045.14270, Elapsed time => 0.473 sec\n",
      "=======================================\n",
      "\n",
      "======== Epoch 2 =======\n",
      "Loss => train:874.03469, valid:563.50073, Elapsed time => 0.467 sec\n",
      "=======================================\n",
      "\n",
      "======== Epoch 3 =======\n",
      "Loss => train:516.90991, valid:380.09232, Elapsed time => 0.439 sec\n",
      "=======================================\n",
      "\n",
      "======== Epoch 4 =======\n",
      "Loss => train:440.42811, valid:373.53796, Elapsed time => 0.444 sec\n",
      "=======================================\n",
      "\n",
      "======== Epoch 5 =======\n",
      "Loss => train:437.78768, valid:373.37231, Elapsed time => 0.444 sec\n",
      "=======================================\n",
      "\n",
      "======== Epoch 6 =======\n",
      "Loss => train:437.87127, valid:373.36899, Elapsed time => 0.440 sec\n",
      "=======================================\n",
      "\n",
      "======== Epoch 7 =======\n",
      "Loss => train:437.85463, valid:373.67255, Elapsed time => 0.435 sec\n",
      "=======================================\n",
      "\n",
      "======== Epoch 8 =======\n",
      "Loss => train:437.92475, valid:373.52945, Elapsed time => 0.450 sec\n",
      "=======================================\n",
      "\n",
      "======== Epoch 9 =======\n",
      "Loss => train:437.75331, valid:373.46576, Elapsed time => 0.430 sec\n",
      "=======================================\n",
      "\n",
      "======== Epoch 10 =======\n",
      "Loss => train:437.86775, valid:373.25021, Elapsed time => 0.436 sec\n",
      "=======================================\n",
      "\n",
      "======== Epoch 11 =======\n",
      "Loss => train:438.01385, valid:373.32404, Elapsed time => 0.446 sec\n",
      "=======================================\n",
      "\n",
      "======== Epoch 12 =======\n",
      "Loss => train:437.88500, valid:373.29248, Elapsed time => 0.436 sec\n",
      "=======================================\n",
      "\n",
      "======== Epoch 13 =======\n",
      "Loss => train:437.78409, valid:373.28592, Elapsed time => 0.433 sec\n",
      "=======================================\n",
      "\n",
      "======== Epoch 14 =======\n",
      "Loss => train:437.53664, valid:373.03864, Elapsed time => 0.433 sec\n",
      "=======================================\n",
      "\n",
      "======== Epoch 15 =======\n",
      "Loss => train:437.51249, valid:372.98212, Elapsed time => 0.434 sec\n",
      "=======================================\n",
      "\n",
      "======== Epoch 16 =======\n",
      "Loss => train:436.96463, valid:371.80304, Elapsed time => 0.432 sec\n",
      "=======================================\n",
      "\n",
      "======== Epoch 17 =======\n",
      "Loss => train:429.78283, valid:347.72684, Elapsed time => 0.434 sec\n",
      "=======================================\n",
      "\n",
      "======== Epoch 18 =======\n",
      "Loss => train:401.15633, valid:329.07837, Elapsed time => 0.468 sec\n",
      "=======================================\n",
      "\n",
      "======== Epoch 19 =======\n",
      "Loss => train:386.57079, valid:321.39526, Elapsed time => 0.434 sec\n",
      "=======================================\n",
      "\n",
      "======== Epoch 20 =======\n",
      "Loss => train:372.46604, valid:312.67343, Elapsed time => 0.432 sec\n",
      "=======================================\n",
      "\n",
      "======== Epoch 21 =======\n",
      "Loss => train:362.38572, valid:306.33157, Elapsed time => 0.432 sec\n",
      "=======================================\n",
      "\n",
      "======== Epoch 22 =======\n",
      "Loss => train:359.87102, valid:299.42947, Elapsed time => 0.436 sec\n",
      "=======================================\n",
      "\n",
      "======== Epoch 23 =======\n",
      "Loss => train:346.40775, valid:287.88669, Elapsed time => 0.425 sec\n",
      "=======================================\n",
      "\n",
      "======== Epoch 24 =======\n",
      "Loss => train:341.87831, valid:285.64117, Elapsed time => 0.453 sec\n",
      "=======================================\n",
      "\n",
      "======== Epoch 25 =======\n",
      "Loss => train:342.94744, valid:285.18246, Elapsed time => 0.449 sec\n",
      "=======================================\n",
      "\n",
      "======== Epoch 26 =======\n",
      "Loss => train:337.45155, valid:282.79312, Elapsed time => 0.438 sec\n",
      "=======================================\n",
      "\n",
      "======== Epoch 27 =======\n",
      "Loss => train:334.31500, valid:284.17682, Elapsed time => 0.433 sec\n",
      "=======================================\n",
      "\n",
      "======== Epoch 28 =======\n",
      "Loss => train:333.22742, valid:281.60629, Elapsed time => 0.447 sec\n",
      "=======================================\n",
      "\n",
      "======== Epoch 29 =======\n",
      "Loss => train:332.77310, valid:281.28293, Elapsed time => 0.439 sec\n",
      "=======================================\n",
      "\n",
      "======== Epoch 30 =======\n",
      "Loss => train:333.71625, valid:278.04895, Elapsed time => 0.432 sec\n",
      "=======================================\n",
      "\n",
      "======== Epoch 31 =======\n",
      "Loss => train:333.67790, valid:277.64258, Elapsed time => 0.427 sec\n",
      "=======================================\n",
      "\n",
      "======== Epoch 32 =======\n",
      "Loss => train:331.09301, valid:283.06128, Elapsed time => 0.444 sec\n",
      "=======================================\n",
      "\n",
      "======== Epoch 33 =======\n",
      "Loss => train:331.79705, valid:284.72717, Elapsed time => 0.438 sec\n",
      "=======================================\n",
      "\n",
      "======== Epoch 34 =======\n",
      "Loss => train:331.13130, valid:278.92703, Elapsed time => 0.437 sec\n",
      "=======================================\n",
      "\n",
      "======== Epoch 35 =======\n",
      "Loss => train:337.62418, valid:282.81839, Elapsed time => 0.429 sec\n",
      "=======================================\n",
      "\n",
      "======== Epoch 36 =======\n",
      "Loss => train:329.60831, valid:278.69269, Elapsed time => 0.431 sec\n",
      "=======================================\n",
      "\n",
      "======== Epoch 37 =======\n",
      "Loss => train:328.25307, valid:278.17642, Elapsed time => 0.432 sec\n",
      "=======================================\n",
      "\n",
      "======== Epoch 38 =======\n",
      "Loss => train:327.37184, valid:279.91125, Elapsed time => 0.430 sec\n",
      "=======================================\n",
      "\n",
      "======== Epoch 39 =======\n",
      "Loss => train:327.46783, valid:278.18155, Elapsed time => 0.417 sec\n",
      "=======================================\n",
      "\n",
      "======== Epoch 40 =======\n",
      "Loss => train:326.06414, valid:279.38995, Elapsed time => 0.438 sec\n",
      "=======================================\n",
      "\n",
      "======== Epoch 41 =======\n",
      "Loss => train:327.20813, valid:277.39948, Elapsed time => 0.424 sec\n",
      "=======================================\n",
      "\n",
      "======== Epoch 42 =======\n",
      "Loss => train:328.65915, valid:282.72333, Elapsed time => 0.438 sec\n",
      "=======================================\n",
      "\n",
      "======== Epoch 43 =======\n",
      "Loss => train:328.55292, valid:278.83203, Elapsed time => 0.434 sec\n",
      "=======================================\n",
      "\n",
      "======== Epoch 44 =======\n",
      "Loss => train:325.61673, valid:276.65469, Elapsed time => 0.449 sec\n",
      "=======================================\n",
      "\n",
      "======== Epoch 45 =======\n",
      "Loss => train:328.13793, valid:281.63882, Elapsed time => 0.430 sec\n",
      "=======================================\n",
      "\n",
      "======== Epoch 46 =======\n",
      "Loss => train:327.33819, valid:277.90839, Elapsed time => 0.436 sec\n",
      "=======================================\n",
      "\n",
      "======== Epoch 47 =======\n",
      "Loss => train:325.81628, valid:276.17142, Elapsed time => 0.432 sec\n",
      "=======================================\n",
      "\n",
      "======== Epoch 48 =======\n",
      "Loss => train:327.53247, valid:283.77649, Elapsed time => 0.452 sec\n",
      "=======================================\n",
      "\n",
      "======== Epoch 49 =======\n",
      "Loss => train:327.81805, valid:277.73569, Elapsed time => 0.433 sec\n",
      "=======================================\n",
      "\n",
      "======== Epoch 50 =======\n",
      "Loss => train:327.81338, valid:276.78900, Elapsed time => 0.435 sec\n",
      "=======================================\n",
      "\n",
      "======== Epoch 51 =======\n",
      "Loss => train:328.06858, valid:279.83813, Elapsed time => 0.433 sec\n",
      "=======================================\n",
      "\n",
      "======== Epoch 52 =======\n",
      "Loss => train:327.51303, valid:279.40762, Elapsed time => 0.446 sec\n",
      "=======================================\n",
      "\n",
      "======== Epoch 53 =======\n",
      "Loss => train:325.91521, valid:283.89511, Elapsed time => 0.418 sec\n",
      "=======================================\n",
      "\n",
      "======== Epoch 54 =======\n",
      "Loss => train:326.12923, valid:277.74033, Elapsed time => 0.434 sec\n",
      "=======================================\n",
      "\n",
      "======== Epoch 55 =======\n",
      "Loss => train:327.01546, valid:277.64658, Elapsed time => 0.433 sec\n",
      "=======================================\n",
      "\n",
      "======== Epoch 56 =======\n",
      "Loss => train:322.87906, valid:276.68292, Elapsed time => 0.432 sec\n",
      "=======================================\n",
      "\n",
      "======== Epoch 57 =======\n",
      "Loss => train:324.84706, valid:277.53448, Elapsed time => 0.433 sec\n",
      "=======================================\n",
      "\n",
      "======== Epoch 58 =======\n",
      "Loss => train:326.74393, valid:276.68433, Elapsed time => 0.434 sec\n",
      "=======================================\n",
      "\n",
      "======== Epoch 59 =======\n",
      "Loss => train:323.29014, valid:275.91461, Elapsed time => 0.433 sec\n",
      "=======================================\n",
      "\n",
      "======== Epoch 60 =======\n",
      "Loss => train:324.05148, valid:278.11526, Elapsed time => 0.435 sec\n",
      "=======================================\n",
      "\n",
      "======== Epoch 61 =======\n",
      "Loss => train:325.23801, valid:275.95044, Elapsed time => 0.433 sec\n",
      "=======================================\n",
      "\n",
      "======== Epoch 62 =======\n",
      "Loss => train:322.81401, valid:276.91406, Elapsed time => 0.450 sec\n",
      "=======================================\n",
      "\n",
      "======== Epoch 63 =======\n",
      "Loss => train:324.16691, valid:282.86548, Elapsed time => 0.449 sec\n",
      "=======================================\n",
      "\n",
      "======== Epoch 64 =======\n",
      "Loss => train:323.90419, valid:280.63791, Elapsed time => 0.444 sec\n",
      "=======================================\n",
      "\n",
      "======== Epoch 65 =======\n",
      "Loss => train:324.60587, valid:286.15692, Elapsed time => 0.423 sec\n",
      "=======================================\n",
      "\n",
      "======== Epoch 66 =======\n",
      "Loss => train:323.86532, valid:276.62683, Elapsed time => 0.449 sec\n",
      "=======================================\n",
      "\n",
      "======== Epoch 67 =======\n",
      "Loss => train:321.98232, valid:278.51431, Elapsed time => 0.434 sec\n",
      "=======================================\n",
      "\n",
      "======== Epoch 68 =======\n",
      "Loss => train:322.37235, valid:276.93433, Elapsed time => 0.428 sec\n",
      "=======================================\n",
      "\n",
      "======== Epoch 69 =======\n",
      "Loss => train:321.51847, valid:279.92191, Elapsed time => 0.453 sec\n",
      "=======================================\n",
      "\n",
      "======== Epoch 70 =======\n",
      "Loss => train:323.62029, valid:276.78708, Elapsed time => 0.467 sec\n",
      "=======================================\n",
      "\n",
      "======== Epoch 71 =======\n",
      "Loss => train:323.20301, valid:276.75250, Elapsed time => 0.441 sec\n",
      "=======================================\n",
      "\n",
      "======== Epoch 72 =======\n",
      "Loss => train:320.93836, valid:278.26428, Elapsed time => 0.444 sec\n",
      "=======================================\n",
      "\n",
      "======== Epoch 73 =======\n",
      "Loss => train:324.31874, valid:276.58649, Elapsed time => 0.435 sec\n",
      "=======================================\n",
      "\n",
      "======== Epoch 74 =======\n",
      "Loss => train:322.60501, valid:276.98602, Elapsed time => 0.433 sec\n",
      "=======================================\n",
      "\n",
      "======== Epoch 75 =======\n",
      "Loss => train:323.18569, valid:287.88177, Elapsed time => 0.447 sec\n",
      "=======================================\n",
      "\n",
      "======== Epoch 76 =======\n",
      "Loss => train:322.04556, valid:277.04584, Elapsed time => 0.437 sec\n",
      "=======================================\n",
      "\n",
      "======== Epoch 77 =======\n",
      "Loss => train:321.80965, valid:276.75851, Elapsed time => 0.429 sec\n",
      "=======================================\n",
      "\n",
      "======== Epoch 78 =======\n",
      "Loss => train:321.12067, valid:276.34836, Elapsed time => 0.422 sec\n",
      "=======================================\n",
      "\n",
      "======== Epoch 79 =======\n",
      "Loss => train:321.58244, valid:278.29568, Elapsed time => 0.432 sec\n",
      "=======================================\n",
      "\n",
      "======== Epoch 80 =======\n",
      "Loss => train:323.52682, valid:285.65680, Elapsed time => 0.433 sec\n",
      "=======================================\n",
      "\n",
      "======== Epoch 81 =======\n",
      "Loss => train:322.64296, valid:289.73859, Elapsed time => 0.417 sec\n",
      "=======================================\n",
      "\n",
      "======== Epoch 82 =======\n",
      "Loss => train:322.37781, valid:280.57892, Elapsed time => 0.434 sec\n",
      "=======================================\n",
      "\n",
      "======== Epoch 83 =======\n",
      "Loss => train:320.61796, valid:276.64529, Elapsed time => 0.434 sec\n",
      "=======================================\n",
      "\n",
      "======== Epoch 84 =======\n",
      "Loss => train:321.25124, valid:276.45898, Elapsed time => 0.415 sec\n",
      "=======================================\n",
      "\n",
      "======== Epoch 85 =======\n",
      "Loss => train:322.15278, valid:276.86792, Elapsed time => 0.432 sec\n",
      "=======================================\n",
      "\n",
      "======== Epoch 86 =======\n",
      "Loss => train:321.53304, valid:280.60260, Elapsed time => 0.432 sec\n",
      "=======================================\n",
      "\n",
      "======== Epoch 87 =======\n",
      "Loss => train:321.74845, valid:275.09412, Elapsed time => 0.434 sec\n",
      "=======================================\n",
      "\n",
      "======== Epoch 88 =======\n",
      "Loss => train:319.65819, valid:275.23334, Elapsed time => 0.417 sec\n",
      "=======================================\n",
      "\n",
      "======== Epoch 89 =======\n",
      "Loss => train:320.54982, valid:277.54196, Elapsed time => 0.431 sec\n",
      "=======================================\n",
      "\n",
      "======== Epoch 90 =======\n",
      "Loss => train:319.65604, valid:278.98306, Elapsed time => 0.440 sec\n",
      "=======================================\n",
      "\n",
      "======== Epoch 91 =======\n",
      "Loss => train:319.79063, valid:275.94397, Elapsed time => 0.427 sec\n",
      "=======================================\n",
      "\n",
      "======== Epoch 92 =======\n",
      "Loss => train:322.05186, valid:276.18417, Elapsed time => 0.422 sec\n",
      "=======================================\n",
      "\n",
      "======== Epoch 93 =======\n",
      "Loss => train:319.95267, valid:280.57941, Elapsed time => 0.432 sec\n",
      "=======================================\n",
      "\n",
      "======== Epoch 94 =======\n",
      "Loss => train:321.33720, valid:284.67664, Elapsed time => 0.433 sec\n",
      "=======================================\n",
      "\n",
      "======== Epoch 95 =======\n",
      "Loss => train:320.76194, valid:284.71381, Elapsed time => 0.434 sec\n",
      "=======================================\n",
      "\n",
      "======== Epoch 96 =======\n",
      "Loss => train:320.43301, valid:279.00363, Elapsed time => 0.427 sec\n",
      "=======================================\n",
      "\n",
      "======== Epoch 97 =======\n",
      "Loss => train:321.30779, valid:280.19907, Elapsed time => 0.426 sec\n",
      "=======================================\n",
      "\n",
      "======== Epoch 98 =======\n",
      "Loss => train:321.93447, valid:275.59235, Elapsed time => 0.413 sec\n",
      "=======================================\n",
      "\n",
      "======== Epoch 99 =======\n",
      "Loss => train:318.54774, valid:275.92120, Elapsed time => 0.433 sec\n",
      "=======================================\n",
      "\n",
      "======== Epoch 100 =======\n",
      "Loss => train:322.69451, valid:275.73859, Elapsed time => 0.432 sec\n",
      "=======================================\n",
      "\n",
      "======== Epoch 101 =======\n",
      "Loss => train:322.36090, valid:280.03534, Elapsed time => 0.422 sec\n",
      "=======================================\n",
      "\n",
      "======== Epoch 102 =======\n",
      "Loss => train:318.84599, valid:278.20651, Elapsed time => 0.427 sec\n",
      "=======================================\n",
      "\n",
      "======== Epoch 103 =======\n",
      "Loss => train:319.58895, valid:276.05551, Elapsed time => 0.417 sec\n",
      "=======================================\n",
      "\n",
      "======== Epoch 104 =======\n",
      "Loss => train:320.00554, valid:278.17590, Elapsed time => 0.435 sec\n",
      "=======================================\n",
      "\n",
      "======== Epoch 105 =======\n",
      "Loss => train:319.45080, valid:276.29620, Elapsed time => 0.444 sec\n",
      "=======================================\n",
      "\n",
      "======== Epoch 106 =======\n",
      "Loss => train:319.76265, valid:277.58093, Elapsed time => 0.434 sec\n",
      "=======================================\n",
      "\n",
      "======== Epoch 107 =======\n",
      "Loss => train:319.63878, valid:284.35385, Elapsed time => 0.419 sec\n",
      "=======================================\n",
      "\n",
      "======== Epoch 108 =======\n",
      "Loss => train:319.78727, valid:275.73575, Elapsed time => 0.436 sec\n",
      "=======================================\n",
      "\n",
      "======== Epoch 109 =======\n",
      "Loss => train:317.53269, valid:275.47626, Elapsed time => 0.434 sec\n",
      "=======================================\n",
      "\n",
      "======== Epoch 110 =======\n",
      "Loss => train:317.71838, valid:283.12167, Elapsed time => 0.432 sec\n",
      "=======================================\n",
      "\n",
      "======== Epoch 111 =======\n",
      "Loss => train:319.15074, valid:276.12732, Elapsed time => 0.433 sec\n",
      "=======================================\n",
      "\n",
      "======== Epoch 112 =======\n",
      "Loss => train:318.45651, valid:277.34103, Elapsed time => 0.432 sec\n",
      "=======================================\n",
      "\n",
      "======== Epoch 113 =======\n",
      "Loss => train:318.60646, valid:281.08215, Elapsed time => 0.433 sec\n",
      "=======================================\n",
      "\n",
      "======== Epoch 114 =======\n",
      "Loss => train:317.83377, valid:276.91806, Elapsed time => 0.439 sec\n",
      "=======================================\n",
      "\n",
      "======== Epoch 115 =======\n",
      "Loss => train:319.05348, valid:281.84726, Elapsed time => 0.424 sec\n",
      "=======================================\n",
      "\n",
      "======== Epoch 116 =======\n",
      "Loss => train:319.02859, valid:277.84775, Elapsed time => 0.429 sec\n",
      "=======================================\n",
      "\n",
      "======== Epoch 117 =======\n",
      "Loss => train:317.40035, valid:278.44431, Elapsed time => 0.434 sec\n",
      "=======================================\n",
      "\n"
     ]
    }
   ],
   "source": [
    "import time \n",
    "\n",
    "is_train = True\n",
    "epoch, early_stopping = 0, 0\n",
    "train_loss_history, valid_loss_history = [], []\n",
    "\n",
    "while is_train:\n",
    "    start = time.time()\n",
    "    train_loss, train_count = 0., 0.\n",
    "    epoch += 1\n",
    "    early_stopping += 1\n",
    "    \n",
    "    for xb, yb in train_loader:\n",
    "        prediction = model(xb)\n",
    "        loss = criterion(prediction[:,0], yb)\n",
    "        train_loss += loss.item()*len(yb)\n",
    "        train_count += len(yb)\n",
    "        \n",
    "        loss.backward()\n",
    "        optimizer.step()\n",
    "        optimizer.zero_grad()\n",
    "    \n",
    "    with torch.no_grad():\n",
    "        valid_loss = 0\n",
    "        valid_count = 0.\n",
    "        \n",
    "        for xb, yb in valid_loader:\n",
    "            prediction = model(xb)\n",
    "            valid_loss += criterion(prediction[:,0], yb)*len(yb)\n",
    "            valid_count += len(yb)\n",
    "        \n",
    "    train_loss /= train_count\n",
    "    valid_loss /= valid_count    \n",
    "    \n",
    "    train_loss_history.append(train_loss)\n",
    "    valid_loss_history.append(valid_loss)\n",
    "    \n",
    "    if min(valid_loss_history) == valid_loss:\n",
    "        early_stopping = 0\n",
    "        \n",
    "        torch.save({\n",
    "            'epoch': epoch,\n",
    "            'model_state_dict': model.state_dict(),\n",
    "            'optimizer_state_dict': optimizer.state_dict(),\n",
    "            'loss': valid_loss,\n",
    "        }, './saved_model.pt')\n",
    "        \n",
    "    if early_stopping == 30:\n",
    "        is_train = False\n",
    "            \n",
    "    print(f\"======== Epoch {epoch} =======\")\n",
    "    print(f\"Loss => train:{train_loss:.5f}, valid:{valid_loss:.5f}, Elapsed time => {time.time()-start:.3f} sec\")\n",
    "    print(\"=======================================\\n\")"
   ]
  },
  {
   "cell_type": "markdown",
   "metadata": {},
   "source": [
    "# Learning Curve"
   ]
  },
  {
   "cell_type": "code",
   "execution_count": 21,
   "metadata": {},
   "outputs": [
    {
     "data": {
      "image/png": "[encoded data removed]",
      "text/plain": [
       "<Figure size 640x480 with 1 Axes>"
      ]
     },
     "metadata": {},
     "output_type": "display_data"
    }
   ],
   "source": [
    "import matplotlib.pyplot as plt \n",
    "\n",
    "plt.plot(train_loss_history)\n",
    "plt.plot(valid_loss_history)\n",
    "plt.axhline(y=min(valid_loss_history), color='black', linestyle='--', linewidth=1)\n",
    "plt.show()"
   ]
  },
  {
   "cell_type": "markdown",
   "metadata": {},
   "source": [
    "# Load best model"
   ]
  },
  {
   "cell_type": "code",
   "execution_count": 22,
   "metadata": {},
   "outputs": [
    {
     "name": "stdout",
     "output_type": "stream",
     "text": [
      "87 275.0941162109375\n"
     ]
    }
   ],
   "source": [
    "checkpoint = torch.load('./saved_model.pt')\n",
    "model.load_state_dict(checkpoint['model_state_dict'])\n",
    "optimizer.load_state_dict(checkpoint['optimizer_state_dict'])\n",
    "epoch = checkpoint['epoch']\n",
    "loss = checkpoint['loss']\n",
    "\n",
    "print(epoch, loss.item())"
   ]
  },
  {
   "cell_type": "markdown",
   "metadata": {},
   "source": [
    "# Evaluation"
   ]
  },
  {
   "cell_type": "code",
   "execution_count": 23,
   "metadata": {},
   "outputs": [
    {
     "name": "stdout",
     "output_type": "stream",
     "text": [
      "loss: 195.11429\n"
     ]
    }
   ],
   "source": [
    "prediction = model(X_test)\n",
    "loss = criterion(prediction[:,0], y_test)\n",
    "\n",
    "print(f\"loss: {loss:.5f}\")"
   ]
  },
  {
   "cell_type": "code",
   "execution_count": 24,
   "metadata": {},
   "outputs": [
    {
     "data": {
      "image/png": "[encoded data removed]",
      "text/plain": [
       "<Figure size 1500x600 with 1 Axes>"
      ]
     },
     "metadata": {},
     "output_type": "display_data"
    }
   ],
   "source": [
    "plt.figure(figsize=(15,6))\n",
    "plt.plot(y_test.detach().numpy())\n",
    "plt.plot(prediction[:,0].detach().numpy())\n",
    "plt.show()"
   ]
  },
  {
   "cell_type": "code",
   "execution_count": null,
   "metadata": {},
   "outputs": [],
   "source": []
  }
 ],
 "metadata": {
  "kernelspec": {
   "display_name": "ai_study",
   "language": "python",
   "name": "python3"
  },
  "language_info": {
   "codemirror_mode": {
    "name": "ipython",
    "version": 3
   },
   "file_extension": ".py",
   "mimetype": "text/x-python",
   "name": "python",
   "nbconvert_exporter": "python",
   "pygments_lexer": "ipython3",
   "version": "3.11.4"
  },
  "orig_nbformat": 4
 },
 "nbformat": 4,
 "nbformat_minor": 2
}
