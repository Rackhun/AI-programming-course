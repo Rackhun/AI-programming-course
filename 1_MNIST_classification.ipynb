{
 "cells": [
  {
   "cell_type": "code",
   "execution_count": 1,
   "metadata": {},
   "outputs": [],
   "source": [
    "import torch\n",
    "import torchvision"
   ]
  },
  {
   "cell_type": "markdown",
   "metadata": {},
   "source": [
    "# Seed"
   ]
  },
  {
   "cell_type": "code",
   "execution_count": 2,
   "metadata": {},
   "outputs": [],
   "source": [
    "seed_number = 44\n",
    "\n",
    "torch.manual_seed(seed_number)\n",
    "torch.cuda.manual_seed(seed_number)\n",
    "torch.cuda.manual_seed_all(seed_number) # if use multi-GPU\n",
    "torch.backends.cudnn.deterministic = True\n",
    "torch.backends.cudnn.benchmark = False\n",
    "#np.random.seed(seed_number)\n",
    "#random.seed(seed_number)"
   ]
  },
  {
   "cell_type": "markdown",
   "metadata": {},
   "source": [
    "# MNIST data download"
   ]
  },
  {
   "cell_type": "code",
   "execution_count": 3,
   "metadata": {},
   "outputs": [],
   "source": [
    "train_dataset = torchvision.datasets.MNIST('./data/', train=True, download=True)\n",
    "test_dataset  = torchvision.datasets.MNIST('./data/', train=False)"
   ]
  },
  {
   "cell_type": "markdown",
   "metadata": {},
   "source": [
    "# load dataset"
   ]
  },
  {
   "cell_type": "code",
   "execution_count": 4,
   "metadata": {},
   "outputs": [
    {
     "name": "stdout",
     "output_type": "stream",
     "text": [
      "torch.Size([60000, 28, 28])\n",
      "torch.Size([10000, 28, 28])\n"
     ]
    }
   ],
   "source": [
    "X      = train_dataset.data\n",
    "X_test = test_dataset.data\n",
    "\n",
    "print(X.shape)\n",
    "print(X_test.shape)"
   ]
  },
  {
   "cell_type": "code",
   "execution_count": 5,
   "metadata": {},
   "outputs": [
    {
     "name": "stdout",
     "output_type": "stream",
     "text": [
      "torch.Size([60000])\n",
      "torch.Size([10000])\n"
     ]
    }
   ],
   "source": [
    "y      = train_dataset.targets\n",
    "y_test = test_dataset.targets\n",
    "\n",
    "print(y.shape)\n",
    "print(y_test.shape)"
   ]
  },
  {
   "cell_type": "markdown",
   "metadata": {},
   "source": [
    "# split dataset"
   ]
  },
  {
   "cell_type": "code",
   "execution_count": 6,
   "metadata": {},
   "outputs": [
    {
     "name": "stdout",
     "output_type": "stream",
     "text": [
      "torch.Size([48000, 28, 28]) torch.Size([48000])\n",
      "torch.Size([12000, 28, 28]) torch.Size([12000])\n"
     ]
    }
   ],
   "source": [
    "from sklearn.model_selection import train_test_split\n",
    "X_train, X_valid, y_train, y_valid = train_test_split(X, y, test_size=0.2, random_state=seed_number)\n",
    "\n",
    "print(X_train.shape, y_train.shape)\n",
    "print(X_valid.shape, y_valid.shape)"
   ]
  },
  {
   "cell_type": "markdown",
   "metadata": {},
   "source": [
    "# normalization"
   ]
  },
  {
   "cell_type": "code",
   "execution_count": 7,
   "metadata": {},
   "outputs": [],
   "source": [
    "X_train = X_train / 255.\n",
    "X_valid = X_valid / 255.\n",
    "X_test  = X_test  / 255."
   ]
  },
  {
   "cell_type": "markdown",
   "metadata": {},
   "source": [
    "# data loader"
   ]
  },
  {
   "cell_type": "code",
   "execution_count": 8,
   "metadata": {},
   "outputs": [
    {
     "name": "stdout",
     "output_type": "stream",
     "text": [
      "cpu\n"
     ]
    }
   ],
   "source": [
    "device = 'cuda' if torch.cuda.is_available() else 'cpu'\n",
    "print(device)\n",
    "\n",
    "X_train = X_train.to(device=device)\n",
    "X_valid = X_valid.to(device=device)\n",
    "X_test  = X_test.to(device=device)\n",
    "\n",
    "y_train = y_train.to(device=device)\n",
    "y_valid = y_valid.to(device=device)\n",
    "y_test  = y_test.to(device=device)"
   ]
  },
  {
   "cell_type": "code",
   "execution_count": 9,
   "metadata": {},
   "outputs": [],
   "source": [
    "train_ds = torch.utils.data.TensorDataset(X_train, y_train)\n",
    "valid_ds = torch.utils.data.TensorDataset(X_valid, y_valid)\n",
    "\n",
    "train_loader = torch.utils.data.DataLoader(train_ds, batch_size=128, shuffle=True)\n",
    "valid_loader = torch.utils.data.DataLoader(valid_ds, batch_size=128, shuffle=False)"
   ]
  },
  {
   "cell_type": "markdown",
   "metadata": {},
   "source": [
    "# Model"
   ]
  },
  {
   "cell_type": "code",
   "execution_count": 10,
   "metadata": {},
   "outputs": [],
   "source": [
    "class Net(torch.nn.Module):\n",
    "    def __init__(self):\n",
    "        super(Net, self).__init__()\n",
    "        \n",
    "        self.fully_connected_layer_1 = torch.nn.Linear(784, 256)\n",
    "        self.fully_connected_layer_2 = torch.nn.Linear(256, 256)\n",
    "        self.fully_connected_layer_3 = torch.nn.Linear(256, 64)\n",
    "        self.fully_connected_layer_4 = torch.nn.Linear(64,  10)\n",
    "        \n",
    "    def forward(self, xb):\n",
    "        xb = xb.view(-1, 784)\n",
    "        \n",
    "        out = self.fully_connected_layer_1(xb)\n",
    "        out = torch.nn.ReLU()(out)\n",
    "        \n",
    "        out = self.fully_connected_layer_2(out)\n",
    "        out = torch.nn.ReLU()(out)\n",
    "        \n",
    "        out = self.fully_connected_layer_3(out)\n",
    "        out = torch.nn.ReLU()(out)\n",
    "        \n",
    "        out = self.fully_connected_layer_4(out)\n",
    "        return out"
   ]
  },
  {
   "cell_type": "code",
   "execution_count": 11,
   "metadata": {},
   "outputs": [
    {
     "name": "stdout",
     "output_type": "stream",
     "text": [
      "Net(\n",
      "  (fully_connected_layer_1): Linear(in_features=784, out_features=256, bias=True)\n",
      "  (fully_connected_layer_2): Linear(in_features=256, out_features=256, bias=True)\n",
      "  (fully_connected_layer_3): Linear(in_features=256, out_features=64, bias=True)\n",
      "  (fully_connected_layer_4): Linear(in_features=64, out_features=10, bias=True)\n",
      ")\n"
     ]
    }
   ],
   "source": [
    "model = Net().to(device)\n",
    "print(model)"
   ]
  },
  {
   "cell_type": "markdown",
   "metadata": {},
   "source": [
    "# cost function"
   ]
  },
  {
   "cell_type": "code",
   "execution_count": 12,
   "metadata": {},
   "outputs": [],
   "source": [
    "criterion = torch.nn.CrossEntropyLoss()"
   ]
  },
  {
   "cell_type": "markdown",
   "metadata": {},
   "source": [
    "# optimizer"
   ]
  },
  {
   "cell_type": "code",
   "execution_count": 13,
   "metadata": {},
   "outputs": [],
   "source": [
    "optimizer = torch.optim.Adam(model.parameters(), lr=0.001)"
   ]
  },
  {
   "cell_type": "markdown",
   "metadata": {},
   "source": [
    "# training"
   ]
  },
  {
   "cell_type": "code",
   "execution_count": 14,
   "metadata": {},
   "outputs": [
    {
     "name": "stdout",
     "output_type": "stream",
     "text": [
      "======== Epoch 1 =======\n",
      "Loss => train:0.00318, valid:0.00156\n",
      "Accuracy => 94.09%, Elapsed time => 2.473 sec\n",
      "=======================================\n",
      "\n",
      "======== Epoch 2 =======\n",
      "Loss => train:0.00116, valid:0.00109\n",
      "Accuracy => 95.64%, Elapsed time => 2.536 sec\n",
      "=======================================\n",
      "\n",
      "======== Epoch 3 =======\n",
      "Loss => train:0.00078, valid:0.00098\n",
      "Accuracy => 96.10%, Elapsed time => 2.733 sec\n",
      "=======================================\n",
      "\n",
      "======== Epoch 4 =======\n",
      "Loss => train:0.00057, valid:0.00069\n",
      "Accuracy => 97.22%, Elapsed time => 2.748 sec\n",
      "=======================================\n",
      "\n",
      "======== Epoch 5 =======\n",
      "Loss => train:0.00041, valid:0.00073\n",
      "Accuracy => 97.07%, Elapsed time => 2.818 sec\n",
      "=======================================\n",
      "\n",
      "======== Epoch 6 =======\n",
      "Loss => train:0.00033, valid:0.00069\n",
      "Accuracy => 97.32%, Elapsed time => 2.832 sec\n",
      "=======================================\n",
      "\n",
      "======== Epoch 7 =======\n",
      "Loss => train:0.00027, valid:0.00074\n",
      "Accuracy => 97.16%, Elapsed time => 2.819 sec\n",
      "=======================================\n",
      "\n",
      "======== Epoch 8 =======\n",
      "Loss => train:0.00021, valid:0.00071\n",
      "Accuracy => 97.38%, Elapsed time => 2.863 sec\n",
      "=======================================\n",
      "\n",
      "======== Epoch 9 =======\n",
      "Loss => train:0.00015, valid:0.00112\n",
      "Accuracy => 96.26%, Elapsed time => 2.752 sec\n",
      "=======================================\n",
      "\n",
      "======== Epoch 10 =======\n",
      "Loss => train:0.00016, valid:0.00071\n",
      "Accuracy => 97.72%, Elapsed time => 2.854 sec\n",
      "=======================================\n",
      "\n"
     ]
    }
   ],
   "source": [
    "import time \n",
    "\n",
    "for epoch in range(10):\n",
    "    start = time.time()\n",
    "    train_loss, train_count = 0., 0.\n",
    "    \n",
    "    for xb, yb in train_loader:\n",
    "        prediction = model(xb)\n",
    "        loss = criterion(prediction, yb)\n",
    "        train_loss += loss.item()\n",
    "        train_count += len(yb)\n",
    "        \n",
    "        loss.backward()\n",
    "        optimizer.step()\n",
    "        optimizer.zero_grad()\n",
    "    \n",
    "        \n",
    "    with torch.no_grad():\n",
    "        valid_loss = 0\n",
    "        valid_accuracy, valid_count = 0., 0.\n",
    "        \n",
    "        for xb, yb in valid_loader:\n",
    "            prediction = model(xb)\n",
    "            valid_loss += criterion(prediction, yb)\n",
    "            valid_accuracy += prediction.data.max(1)[1].eq(yb.data).sum()\n",
    "            valid_count += len(yb)\n",
    "        \n",
    "    train_loss /= train_count\n",
    "    valid_loss /= valid_count    \n",
    "    valid_accuracy /= valid_count\n",
    "            \n",
    "    print(f\"======== Epoch {epoch+1} =======\")\n",
    "    print(f\"Loss => train:{train_loss:.5f}, valid:{valid_loss:.5f}\")\n",
    "    print(f\"Accuracy => {valid_accuracy*100:.2f}%, Elapsed time => {time.time()-start:.3f} sec\")\n",
    "    print(\"=======================================\\n\")\n",
    "            "
   ]
  },
  {
   "cell_type": "markdown",
   "metadata": {},
   "source": [
    "# evaluation"
   ]
  },
  {
   "cell_type": "code",
   "execution_count": 15,
   "metadata": {},
   "outputs": [
    {
     "name": "stdout",
     "output_type": "stream",
     "text": [
      "loss: 0.00001\n",
      "accuracy: 97.65%\n"
     ]
    }
   ],
   "source": [
    "prediction = model(X_test)\n",
    "loss = criterion(prediction, y_test) / len(y_test)\n",
    "accuracy = prediction.data.max(1)[1].eq(y_test.data).sum() / len(y_test)\n",
    "\n",
    "print(f\"loss: {loss:.5f}\")\n",
    "print(f\"accuracy: {accuracy*100:.2f}%\")"
   ]
  },
  {
   "cell_type": "code",
   "execution_count": 16,
   "metadata": {},
   "outputs": [
    {
     "data": {
      "text/plain": [
       "<matplotlib.image.AxesImage at 0x1e7e344de50>"
      ]
     },
     "execution_count": 16,
     "metadata": {},
     "output_type": "execute_result"
    },
    {
     "data": {
      "image/png": "[encoded data removed]",
      "text/plain": [
       "<Figure size 640x480 with 1 Axes>"
      ]
     },
     "metadata": {},
     "output_type": "display_data"
    }
   ],
   "source": [
    "import matplotlib.pyplot as plt\n",
    "plt.imshow(X_test[1000])"
   ]
  },
  {
   "cell_type": "code",
   "execution_count": 17,
   "metadata": {},
   "outputs": [
    {
     "name": "stdout",
     "output_type": "stream",
     "text": [
      "tensor([9])\n"
     ]
    }
   ],
   "source": [
    "prediction = model(X_test[1000])\n",
    "answer = prediction.data.max(1)[1]\n",
    "print(answer)"
   ]
  },
  {
   "cell_type": "code",
   "execution_count": null,
   "metadata": {},
   "outputs": [],
   "source": []
  }
 ],
 "metadata": {
  "kernelspec": {
   "display_name": "ai_study",
   "language": "python",
   "name": "python3"
  },
  "language_info": {
   "codemirror_mode": {
    "name": "ipython",
    "version": 3
   },
   "file_extension": ".py",
   "mimetype": "text/x-python",
   "name": "python",
   "nbconvert_exporter": "python",
   "pygments_lexer": "ipython3",
   "version": "3.11.4"
  },
  "orig_nbformat": 4
 },
 "nbformat": 4,
 "nbformat_minor": 2
}
