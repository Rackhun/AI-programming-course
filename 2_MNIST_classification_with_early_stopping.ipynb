{
 "cells": [
  {
   "cell_type": "code",
   "execution_count": 1,
   "metadata": {},
   "outputs": [],
   "source": [
    "import torch\n",
    "import torchvision"
   ]
  },
  {
   "cell_type": "markdown",
   "metadata": {},
   "source": [
    "# Seed"
   ]
  },
  {
   "cell_type": "code",
   "execution_count": 2,
   "metadata": {},
   "outputs": [],
   "source": [
    "seed_number = 44\n",
    "\n",
    "torch.manual_seed(seed_number)\n",
    "torch.cuda.manual_seed(seed_number)\n",
    "torch.cuda.manual_seed_all(seed_number) # if use multi-GPU\n",
    "torch.backends.cudnn.deterministic = True\n",
    "torch.backends.cudnn.benchmark = False\n",
    "#np.random.seed(seed_number)\n",
    "#random.seed(seed_number)"
   ]
  },
  {
   "cell_type": "markdown",
   "metadata": {},
   "source": [
    "# MNIST data download"
   ]
  },
  {
   "cell_type": "code",
   "execution_count": 3,
   "metadata": {},
   "outputs": [],
   "source": [
    "train_dataset = torchvision.datasets.MNIST('./data/', train=True, download=True)\n",
    "test_dataset  = torchvision.datasets.MNIST('./data/', train=False)"
   ]
  },
  {
   "cell_type": "markdown",
   "metadata": {},
   "source": [
    "# Load dataset"
   ]
  },
  {
   "cell_type": "code",
   "execution_count": 4,
   "metadata": {},
   "outputs": [
    {
     "name": "stdout",
     "output_type": "stream",
     "text": [
      "torch.Size([60000, 28, 28])\n",
      "torch.Size([10000, 28, 28])\n"
     ]
    }
   ],
   "source": [
    "X      = train_dataset.data\n",
    "X_test = test_dataset.data\n",
    "\n",
    "print(X.shape)\n",
    "print(X_test.shape)"
   ]
  },
  {
   "cell_type": "code",
   "execution_count": 5,
   "metadata": {},
   "outputs": [
    {
     "name": "stdout",
     "output_type": "stream",
     "text": [
      "torch.Size([60000])\n",
      "torch.Size([10000])\n"
     ]
    }
   ],
   "source": [
    "y      = train_dataset.targets\n",
    "y_test = test_dataset.targets\n",
    "\n",
    "print(y.shape)\n",
    "print(y_test.shape)"
   ]
  },
  {
   "cell_type": "markdown",
   "metadata": {},
   "source": [
    "# Split dataset"
   ]
  },
  {
   "cell_type": "code",
   "execution_count": 6,
   "metadata": {},
   "outputs": [
    {
     "name": "stdout",
     "output_type": "stream",
     "text": [
      "torch.Size([48000, 28, 28]) torch.Size([48000])\n",
      "torch.Size([12000, 28, 28]) torch.Size([12000])\n"
     ]
    }
   ],
   "source": [
    "from sklearn.model_selection import train_test_split\n",
    "X_train, X_valid, y_train, y_valid = train_test_split(X, y, test_size=0.2, random_state=seed_number)\n",
    "\n",
    "print(X_train.shape, y_train.shape)\n",
    "print(X_valid.shape, y_valid.shape)"
   ]
  },
  {
   "cell_type": "markdown",
   "metadata": {},
   "source": [
    "# Normalization"
   ]
  },
  {
   "cell_type": "code",
   "execution_count": 7,
   "metadata": {},
   "outputs": [],
   "source": [
    "X_train = X_train / 255.\n",
    "X_valid = X_valid / 255.\n",
    "X_test  = X_test  / 255."
   ]
  },
  {
   "cell_type": "markdown",
   "metadata": {},
   "source": [
    "# Data loader"
   ]
  },
  {
   "cell_type": "code",
   "execution_count": 8,
   "metadata": {},
   "outputs": [
    {
     "name": "stdout",
     "output_type": "stream",
     "text": [
      "cpu\n"
     ]
    }
   ],
   "source": [
    "device = 'cuda' if torch.cuda.is_available() else 'cpu'\n",
    "print(device)\n",
    "\n",
    "X_train = X_train.to(device=device)\n",
    "X_valid = X_valid.to(device=device)\n",
    "X_test  = X_test.to(device=device)\n",
    "\n",
    "y_train = y_train.to(device=device)\n",
    "y_valid = y_valid.to(device=device)\n",
    "y_test  = y_test.to(device=device)"
   ]
  },
  {
   "cell_type": "code",
   "execution_count": 9,
   "metadata": {},
   "outputs": [],
   "source": [
    "train_ds = torch.utils.data.TensorDataset(X_train, y_train)\n",
    "valid_ds = torch.utils.data.TensorDataset(X_valid, y_valid)\n",
    "\n",
    "train_loader = torch.utils.data.DataLoader(train_ds, batch_size=128, shuffle=True)\n",
    "valid_loader = torch.utils.data.DataLoader(valid_ds, batch_size=128, shuffle=False)"
   ]
  },
  {
   "cell_type": "markdown",
   "metadata": {},
   "source": [
    "# Model"
   ]
  },
  {
   "cell_type": "code",
   "execution_count": 10,
   "metadata": {},
   "outputs": [],
   "source": [
    "class Net(torch.nn.Module):\n",
    "    def __init__(self):\n",
    "        super(Net, self).__init__()\n",
    "        \n",
    "        self.fully_connected_layer_1 = torch.nn.Linear(784, 256)\n",
    "        self.fully_connected_layer_2 = torch.nn.Linear(256, 256)\n",
    "        self.fully_connected_layer_3 = torch.nn.Linear(256, 64)\n",
    "        self.fully_connected_layer_4 = torch.nn.Linear(64,  10)\n",
    "        \n",
    "    def forward(self, xb):\n",
    "        xb = xb.view(-1, 784)\n",
    "        \n",
    "        out = self.fully_connected_layer_1(xb)\n",
    "        out = torch.nn.ReLU()(out)\n",
    "        \n",
    "        out = self.fully_connected_layer_2(out)\n",
    "        out = torch.nn.ReLU()(out)\n",
    "        \n",
    "        out = self.fully_connected_layer_3(out)\n",
    "        out = torch.nn.ReLU()(out)\n",
    "        \n",
    "        out = self.fully_connected_layer_4(out)\n",
    "        return out"
   ]
  },
  {
   "cell_type": "code",
   "execution_count": 11,
   "metadata": {},
   "outputs": [
    {
     "name": "stdout",
     "output_type": "stream",
     "text": [
      "Net(\n",
      "  (fully_connected_layer_1): Linear(in_features=784, out_features=256, bias=True)\n",
      "  (fully_connected_layer_2): Linear(in_features=256, out_features=256, bias=True)\n",
      "  (fully_connected_layer_3): Linear(in_features=256, out_features=64, bias=True)\n",
      "  (fully_connected_layer_4): Linear(in_features=64, out_features=10, bias=True)\n",
      ")\n"
     ]
    }
   ],
   "source": [
    "model = Net().to(device)\n",
    "print(model)"
   ]
  },
  {
   "cell_type": "markdown",
   "metadata": {},
   "source": [
    "# Cost function"
   ]
  },
  {
   "cell_type": "code",
   "execution_count": 12,
   "metadata": {},
   "outputs": [],
   "source": [
    "criterion = torch.nn.CrossEntropyLoss()"
   ]
  },
  {
   "cell_type": "markdown",
   "metadata": {},
   "source": [
    "# Optimizer"
   ]
  },
  {
   "cell_type": "code",
   "execution_count": 13,
   "metadata": {},
   "outputs": [],
   "source": [
    "optimizer = torch.optim.Adam(model.parameters(), lr=0.0007)"
   ]
  },
  {
   "cell_type": "markdown",
   "metadata": {},
   "source": [
    "# Training"
   ]
  },
  {
   "cell_type": "code",
   "execution_count": 14,
   "metadata": {},
   "outputs": [
    {
     "name": "stdout",
     "output_type": "stream",
     "text": [
      "======== Epoch 1 =======\n",
      "Loss => train:0.46190, valid:0.23339\n",
      "Accuracy => 93.03%, Elapsed time => 2.516 sec\n",
      "=======================================\n",
      "\n",
      "======== Epoch 2 =======\n",
      "Loss => train:0.17313, valid:0.15961\n",
      "Accuracy => 95.06%, Elapsed time => 2.477 sec\n",
      "=======================================\n",
      "\n",
      "======== Epoch 3 =======\n",
      "Loss => train:0.11710, valid:0.13375\n",
      "Accuracy => 95.90%, Elapsed time => 2.635 sec\n",
      "=======================================\n",
      "\n",
      "======== Epoch 4 =======\n",
      "Loss => train:0.08908, valid:0.09661\n",
      "Accuracy => 96.85%, Elapsed time => 2.700 sec\n",
      "=======================================\n",
      "\n",
      "======== Epoch 5 =======\n",
      "Loss => train:0.06638, valid:0.08839\n",
      "Accuracy => 97.11%, Elapsed time => 2.704 sec\n",
      "=======================================\n",
      "\n",
      "======== Epoch 6 =======\n",
      "Loss => train:0.05345, valid:0.09553\n",
      "Accuracy => 97.09%, Elapsed time => 2.762 sec\n",
      "=======================================\n",
      "\n",
      "======== Epoch 7 =======\n",
      "Loss => train:0.04094, valid:0.08991\n",
      "Accuracy => 97.12%, Elapsed time => 2.751 sec\n",
      "=======================================\n",
      "\n",
      "======== Epoch 8 =======\n",
      "Loss => train:0.03218, valid:0.08836\n",
      "Accuracy => 97.37%, Elapsed time => 2.867 sec\n",
      "=======================================\n",
      "\n",
      "======== Epoch 9 =======\n",
      "Loss => train:0.02465, valid:0.09723\n",
      "Accuracy => 97.28%, Elapsed time => 2.750 sec\n",
      "=======================================\n",
      "\n",
      "======== Epoch 10 =======\n",
      "Loss => train:0.02415, valid:0.09036\n",
      "Accuracy => 97.47%, Elapsed time => 2.817 sec\n",
      "=======================================\n",
      "\n",
      "======== Epoch 11 =======\n",
      "Loss => train:0.01871, valid:0.11274\n",
      "Accuracy => 97.04%, Elapsed time => 2.733 sec\n",
      "=======================================\n",
      "\n",
      "======== Epoch 12 =======\n",
      "Loss => train:0.01672, valid:0.10481\n",
      "Accuracy => 97.41%, Elapsed time => 2.782 sec\n",
      "=======================================\n",
      "\n",
      "======== Epoch 13 =======\n",
      "Loss => train:0.01122, valid:0.10220\n",
      "Accuracy => 97.38%, Elapsed time => 2.750 sec\n",
      "=======================================\n",
      "\n",
      "======== Epoch 14 =======\n",
      "Loss => train:0.01201, valid:0.10334\n",
      "Accuracy => 97.31%, Elapsed time => 2.802 sec\n",
      "=======================================\n",
      "\n",
      "======== Epoch 15 =======\n",
      "Loss => train:0.01189, valid:0.09693\n",
      "Accuracy => 97.78%, Elapsed time => 2.783 sec\n",
      "=======================================\n",
      "\n",
      "======== Epoch 16 =======\n",
      "Loss => train:0.00968, valid:0.10633\n",
      "Accuracy => 97.71%, Elapsed time => 2.783 sec\n",
      "=======================================\n",
      "\n",
      "======== Epoch 17 =======\n",
      "Loss => train:0.00849, valid:0.12131\n",
      "Accuracy => 97.32%, Elapsed time => 2.817 sec\n",
      "=======================================\n",
      "\n",
      "======== Epoch 18 =======\n",
      "Loss => train:0.00935, valid:0.11504\n",
      "Accuracy => 97.60%, Elapsed time => 2.832 sec\n",
      "=======================================\n",
      "\n",
      "======== Epoch 19 =======\n",
      "Loss => train:0.01197, valid:0.13384\n",
      "Accuracy => 97.53%, Elapsed time => 2.718 sec\n",
      "=======================================\n",
      "\n",
      "======== Epoch 20 =======\n",
      "Loss => train:0.01035, valid:0.11932\n",
      "Accuracy => 97.44%, Elapsed time => 2.769 sec\n",
      "=======================================\n",
      "\n",
      "======== Epoch 21 =======\n",
      "Loss => train:0.00427, valid:0.13002\n",
      "Accuracy => 97.56%, Elapsed time => 2.831 sec\n",
      "=======================================\n",
      "\n",
      "======== Epoch 22 =======\n",
      "Loss => train:0.00750, valid:0.12919\n",
      "Accuracy => 97.53%, Elapsed time => 2.850 sec\n",
      "=======================================\n",
      "\n",
      "======== Epoch 23 =======\n",
      "Loss => train:0.00738, valid:0.12171\n",
      "Accuracy => 97.65%, Elapsed time => 2.850 sec\n",
      "=======================================\n",
      "\n"
     ]
    }
   ],
   "source": [
    "import time \n",
    "\n",
    "is_train = True\n",
    "epoch, early_stopping = 0, 0\n",
    "train_loss_history, valid_loss_history = [], []\n",
    "\n",
    "while is_train:\n",
    "    start = time.time()\n",
    "    train_loss, train_count = 0., 0.\n",
    "    epoch += 1\n",
    "    early_stopping += 1\n",
    "    \n",
    "    for xb, yb in train_loader:\n",
    "        prediction = model(xb)\n",
    "        loss = criterion(prediction, yb)\n",
    "        train_loss += loss.item()*len(yb)\n",
    "        train_count += len(yb)\n",
    "        \n",
    "        loss.backward()\n",
    "        optimizer.step()\n",
    "        optimizer.zero_grad()\n",
    "    \n",
    "    with torch.no_grad():\n",
    "        valid_loss = 0\n",
    "        valid_accuracy, valid_count = 0., 0.\n",
    "        \n",
    "        for xb, yb in valid_loader:\n",
    "            prediction = model(xb)\n",
    "            valid_loss += criterion(prediction, yb)*len(yb)\n",
    "            valid_accuracy += prediction.data.max(1)[1].eq(yb.data).sum()\n",
    "            valid_count += len(yb)\n",
    "        \n",
    "    train_loss /= train_count\n",
    "    valid_loss /= valid_count    \n",
    "    valid_accuracy /= valid_count\n",
    "    \n",
    "    train_loss_history.append(train_loss)\n",
    "    valid_loss_history.append(valid_loss)\n",
    "    \n",
    "    if min(valid_loss_history) == valid_loss:\n",
    "        early_stopping = 0\n",
    "        \n",
    "        # https://pytorch.org/tutorials/beginner/saving_loading_models.html\n",
    "        torch.save({\n",
    "            'epoch': epoch,\n",
    "            'model_state_dict': model.state_dict(),\n",
    "            'optimizer_state_dict': optimizer.state_dict(),\n",
    "            'loss': valid_loss,\n",
    "        }, './saved_model.pt')\n",
    "        \n",
    "    if early_stopping == 15:\n",
    "        is_train = False\n",
    "            \n",
    "    print(f\"======== Epoch {epoch} =======\")\n",
    "    print(f\"Loss => train:{train_loss:.5f}, valid:{valid_loss:.5f}\")\n",
    "    print(f\"Accuracy => {valid_accuracy*100:.2f}%, Elapsed time => {time.time()-start:.3f} sec\")\n",
    "    print(\"=======================================\\n\")"
   ]
  },
  {
   "cell_type": "markdown",
   "metadata": {},
   "source": [
    "# Learning curve"
   ]
  },
  {
   "cell_type": "code",
   "execution_count": 15,
   "metadata": {},
   "outputs": [
    {
     "data": {
      "image/png": "[encoded data removed]",
      "text/plain": [
       "<Figure size 640x480 with 1 Axes>"
      ]
     },
     "metadata": {},
     "output_type": "display_data"
    }
   ],
   "source": [
    "import matplotlib.pyplot as plt \n",
    "\n",
    "plt.plot(train_loss_history)\n",
    "plt.plot(valid_loss_history)\n",
    "plt.axhline(y=min(valid_loss_history), color='black', linestyle='--', linewidth=1)\n",
    "plt.show()"
   ]
  },
  {
   "cell_type": "markdown",
   "metadata": {},
   "source": [
    "# Load best model"
   ]
  },
  {
   "cell_type": "code",
   "execution_count": 16,
   "metadata": {},
   "outputs": [
    {
     "name": "stdout",
     "output_type": "stream",
     "text": [
      "8 0.08836113661527634\n"
     ]
    }
   ],
   "source": [
    "checkpoint = torch.load('./saved_model.pt')\n",
    "model.load_state_dict(checkpoint['model_state_dict'])\n",
    "optimizer.load_state_dict(checkpoint['optimizer_state_dict'])\n",
    "epoch = checkpoint['epoch']\n",
    "loss = checkpoint['loss']\n",
    "\n",
    "print(epoch, loss.item())"
   ]
  },
  {
   "cell_type": "markdown",
   "metadata": {},
   "source": [
    "# Evaluation"
   ]
  },
  {
   "cell_type": "code",
   "execution_count": 17,
   "metadata": {},
   "outputs": [
    {
     "name": "stdout",
     "output_type": "stream",
     "text": [
      "loss: 0.08068\n",
      "accuracy: 97.60%\n"
     ]
    }
   ],
   "source": [
    "prediction = model(X_test)\n",
    "loss = criterion(prediction, y_test)# / len(y_test)\n",
    "accuracy = prediction.data.max(1)[1].eq(y_test.data).sum() / len(y_test)\n",
    "\n",
    "print(f\"loss: {loss:.5f}\")\n",
    "print(f\"accuracy: {accuracy*100:.2f}%\")"
   ]
  },
  {
   "cell_type": "code",
   "execution_count": 18,
   "metadata": {},
   "outputs": [
    {
     "data": {
      "text/plain": [
       "<matplotlib.image.AxesImage at 0x27e891e40d0>"
      ]
     },
     "execution_count": 18,
     "metadata": {},
     "output_type": "execute_result"
    },
    {
     "data": {
      "image/png": "[encoded data removed]",
      "text/plain": [
       "<Figure size 640x480 with 1 Axes>"
      ]
     },
     "metadata": {},
     "output_type": "display_data"
    }
   ],
   "source": [
    "plt.imshow(X_test[1000])"
   ]
  },
  {
   "cell_type": "code",
   "execution_count": 19,
   "metadata": {},
   "outputs": [
    {
     "name": "stdout",
     "output_type": "stream",
     "text": [
      "tensor([9])\n"
     ]
    }
   ],
   "source": [
    "prediction = model(X_test[1000])\n",
    "answer = prediction.data.max(1)[1]\n",
    "print(answer)"
   ]
  },
  {
   "cell_type": "code",
   "execution_count": null,
   "metadata": {},
   "outputs": [],
   "source": []
  }
 ],
 "metadata": {
  "kernelspec": {
   "display_name": "ai_study",
   "language": "python",
   "name": "python3"
  },
  "language_info": {
   "codemirror_mode": {
    "name": "ipython",
    "version": 3
   },
   "file_extension": ".py",
   "mimetype": "text/x-python",
   "name": "python",
   "nbconvert_exporter": "python",
   "pygments_lexer": "ipython3",
   "version": "0.0.0"
  },
  "orig_nbformat": 4
 },
 "nbformat": 4,
 "nbformat_minor": 2
}
